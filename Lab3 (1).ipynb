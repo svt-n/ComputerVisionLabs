{
  "cells": [
    {
      "cell_type": "code",
      "execution_count": 1,
      "metadata": {
        "id": "_601M2shPGDh"
      },
      "outputs": [],
      "source": [
        "'''Побудувати CNN на основі ResNet-50 для класифікації зображень на основі\n",
        "датасету fashion-mnist.\n",
        "Зробити налаштування моделі для досягнення необхідної точності. На базі\n",
        "Siamese networks побудувати систему для пошуку подібних зображень в\n",
        "датасеті fashion-mnist. Візуалізувати отримані результати t-SNE.'''\n",
        "\n",
        "import tensorflow as tf\n",
        "import numpy as np\n",
        "\n",
        "fashion_mnist = tf.keras.datasets.fashion_mnist\n",
        "(train_images, train_labels), (test_images, test_labels) = tf.keras.datasets.fashion_mnist.load_data()"
      ]
    },
    {
      "cell_type": "code",
      "execution_count": 3,
      "metadata": {
        "colab": {
          "base_uri": "https://localhost:8080/",
          "height": 298
        },
        "id": "kiuOKqsipV-I",
        "outputId": "fb999b92-35f5-434e-c67e-9283e14ffd84"
      },
      "outputs": [
        {
          "output_type": "stream",
          "name": "stdout",
          "text": [
            "Ankle boot\n"
          ]
        },
        {
          "output_type": "execute_result",
          "data": {
            "text/plain": [
              "<matplotlib.image.AxesImage at 0x7f5d3eeb0f10>"
            ]
          },
          "metadata": {},
          "execution_count": 3
        },
        {
          "output_type": "display_data",
          "data": {
            "text/plain": [
              "<Figure size 432x288 with 1 Axes>"
            ],
            "image/png": "[encoded data removed]"
          },
          "metadata": {
            "needs_background": "light"
          }
        }
      ],
      "source": [
        "import matplotlib.pyplot as plt\n",
        "\n",
        "class_types = ['T-shirt/top', 'Trouser', 'Pullover', 'Dress', 'Coat', 'Sandal', 'Shirt', 'Sneaker', 'Bag', 'Ankle boot']\n",
        "print(class_types[train_labels[0]])\n",
        "plt.imshow(train_images[0])"
      ]
    },
    {
      "cell_type": "code",
      "execution_count": 4,
      "metadata": {
        "id": "Ev9h9GnjPbVu"
      },
      "outputs": [],
      "source": [
        "img_shape =  np.concatenate((test_images.shape[1:], [1]))\n",
        "CLASSES = len(np.unique(test_labels))\n",
        "\n",
        "train_images = train_images / 255.0\n",
        "test_images = test_images / 255.0"
      ]
    },
    {
      "cell_type": "code",
      "execution_count": 5,
      "metadata": {
        "id": "FjmECGLtQwzH"
      },
      "outputs": [],
      "source": [
        "import random\n",
        "\n",
        "def create_pairs(x, digit_indices):\n",
        "    '''\n",
        "    Positive and negative pair creation.\n",
        "    Alternates between positive and negative pairs.\n",
        "    '''\n",
        "    pairs = []\n",
        "    labels = []\n",
        "    n = min([len(digit_indices[d]) for d in range(CLASSES)]) - 1\n",
        "    for d in range(CLASSES):\n",
        "        for i in range(n):\n",
        "            z1, z2 = digit_indices[d][i], digit_indices[d][i + 1]\n",
        "            pairs += [[x[z1], x[z2]]]\n",
        "            inc = random.randrange(1, CLASSES)\n",
        "            dn = (d + inc) % CLASSES\n",
        "            z1, z2 = digit_indices[d][i], digit_indices[dn][i]\n",
        "            pairs += [[x[z1], x[z2]]]\n",
        "            labels += [1, 0]\n",
        "    return np.array(pairs), np.array(labels)\n",
        "\n",
        "def make_pair_dataset(images, labels):\n",
        "    digit_indices = [np.where(labels == i)[0] for i in range(CLASSES)]\n",
        "    pairs, y = create_pairs(images, digit_indices)\n",
        "    return pairs, y"
      ]
    },
    {
      "cell_type": "code",
      "execution_count": 6,
      "metadata": {
        "id": "G0edSs9DQ1U4"
      },
      "outputs": [],
      "source": [
        "tr_pairs, tr_y = make_pair_dataset(train_images, train_labels)\n",
        "te_pairs, te_y = make_pair_dataset(test_images, test_labels)"
      ]
    },
    {
      "cell_type": "code",
      "execution_count": 7,
      "metadata": {
        "id": "40W9er4ORaRC"
      },
      "outputs": [],
      "source": [
        "from sklearn.model_selection import train_test_split\n",
        "\n",
        "tr_y = tr_y.astype(np.float32)\n",
        "te_y = te_y.astype(np.float32)\n",
        "\n",
        "x_tra, x_val, y_tra, y_val = train_test_split(tr_pairs, tr_y, test_size=0.2, stratify=tr_y, random_state=21)"
      ]
    },
    {
      "cell_type": "code",
      "execution_count": 8,
      "metadata": {
        "id": "rAE3b7eXRdOx"
      },
      "outputs": [],
      "source": [
        "def res_identity(x, filters): \n",
        "  #renet block where dimension doesnot change.\n",
        "  #The skip connection is just simple identity conncection\n",
        "  #we will have 3 blocks and then input will be added\n",
        "\n",
        "  x_skip = x # this will be used for addition with the residual block \n",
        "  f1, f2 = filters\n",
        "\n",
        "  #first block \n",
        "  x = tf.keras.layers.Conv2D(f1, kernel_size=(1, 1), strides=(1, 1), padding='valid')(x)\n",
        "  x = tf.keras.layers.BatchNormalization()(x)\n",
        "  x = tf.keras.layers.Activation(tf.keras.activations.relu)(x)\n",
        "\n",
        "  #second block # bottleneck (but size kept same with padding)\n",
        "  x = tf.keras.layers.Conv2D(f1, kernel_size=(3, 3), strides=(1, 1), padding='same')(x)\n",
        "  x = tf.keras.layers.BatchNormalization()(x)\n",
        "  x = tf.keras.layers.Activation(tf.keras.activations.relu)(x)\n",
        "\n",
        "  # third block activation used after adding the input\n",
        "  x = tf.keras.layers.Conv2D(f2, kernel_size=(1, 1), strides=(1, 1), padding='valid')(x)\n",
        "  x = tf.keras.layers.BatchNormalization()(x)\n",
        "  # x = Activation(activations.relu)(x)\n",
        "\n",
        "  # add the input \n",
        "  x = tf.keras.layers.Add()([x, x_skip])\n",
        "  x = tf.keras.layers.Activation(tf.keras.activations.relu)(x)\n",
        "\n",
        "  return x"
      ]
    },
    {
      "cell_type": "code",
      "execution_count": 9,
      "metadata": {
        "id": "_rrUo0AuRgY8"
      },
      "outputs": [],
      "source": [
        "def res_conv(x, s, filters):\n",
        "  '''\n",
        "  here the input size changes''' \n",
        "  x_skip = x\n",
        "  f1, f2 = filters\n",
        "\n",
        "  # first block\n",
        "  x = tf.keras.layers.Conv2D(f1, kernel_size=(1, 1), strides=(s, s), padding='valid')(x)\n",
        "  # when s = 2 then it is like downsizing the feature map\n",
        "  x = tf.keras.layers.BatchNormalization()(x)\n",
        "  x = tf.keras.layers.Activation(tf.keras.activations.relu)(x)\n",
        "\n",
        "  # second block\n",
        "  x = tf.keras.layers.Conv2D(f1, kernel_size=(3, 3), strides=(1, 1), padding='same')(x)\n",
        "  x = tf.keras.layers.BatchNormalization()(x)\n",
        "  x = tf.keras.layers.Activation(tf.keras.activations.relu)(x)\n",
        "\n",
        "  #third block\n",
        "  x = tf.keras.layers.Conv2D(f2, kernel_size=(1, 1), strides=(1, 1), padding='valid')(x)\n",
        "  x = tf.keras.layers.BatchNormalization()(x)\n",
        "\n",
        "  # shortcut \n",
        "  x_skip = tf.keras.layers.Conv2D(f2, kernel_size=(1, 1), strides=(s, s), padding='valid')(x_skip)\n",
        "  x_skip = tf.keras.layers.BatchNormalization()(x_skip)\n",
        "\n",
        "  # add \n",
        "  x = tf.keras.layers.Add()([x, x_skip])\n",
        "  x = tf.keras.layers.Activation(tf.keras.activations.relu)(x)\n",
        "\n",
        "  return x"
      ]
    },
    {
      "cell_type": "code",
      "execution_count": 10,
      "metadata": {
        "id": "KRCTai7JRize"
      },
      "outputs": [],
      "source": [
        "def Resnet50():\n",
        "\n",
        "  input_im = tf.keras.layers.Input(shape=img_shape)\n",
        "  x = tf.keras.layers.ZeroPadding2D(padding=(3, 3))(input_im)\n",
        "\n",
        "  # 1st stage\n",
        "  # here we perform maxpooling, see the figure above\n",
        "\n",
        "  x = tf.keras.layers.Conv2D(64, kernel_size=(7, 7), strides=(2, 2))(x)\n",
        "  x = tf.keras.layers.BatchNormalization()(x)\n",
        "  x = tf.keras.layers.Activation(tf.keras.activations.relu)(x)\n",
        "  x = tf.keras.layers.MaxPooling2D((3, 3), strides=(2, 2))(x)\n",
        "\n",
        "  #2nd stage \n",
        "  # frm here on only conv block and identity block, no pooling\n",
        "\n",
        "  x = res_conv(x, s=1, filters=(64, 256))\n",
        "  x = res_identity(x, filters=(64, 256))\n",
        "  x = res_identity(x, filters=(64, 256))\n",
        "\n",
        "  # 3rd stage\n",
        "\n",
        "  x = res_conv(x, s=2, filters=(128, 512))\n",
        "  x = res_identity(x, filters=(128, 512))\n",
        "  x = res_identity(x, filters=(128, 512))\n",
        "  x = res_identity(x, filters=(128, 512))\n",
        "\n",
        "  # 4th stage\n",
        "\n",
        "  x = res_conv(x, s=2, filters=(256, 1024))\n",
        "  x = res_identity(x, filters=(256, 1024))\n",
        "  x = res_identity(x, filters=(256, 1024))\n",
        "  x = res_identity(x, filters=(256, 1024))\n",
        "  x = res_identity(x, filters=(256, 1024))\n",
        "  x = res_identity(x, filters=(256, 1024))\n",
        "\n",
        "  # 5th stage\n",
        "\n",
        "  x = res_conv(x, s=2, filters=(512, 2048))\n",
        "  x = res_identity(x, filters=(512, 2048))\n",
        "  x = res_identity(x, filters=(512, 2048))\n",
        "\n",
        "  # ends with average pooling and dense connection\n",
        "\n",
        "  x = tf.keras.layers.AveragePooling2D((2, 2), padding='same')(x)\n",
        "\n",
        "  x = tf.keras.layers.Flatten()(x)\n",
        "  x = tf.keras.layers.Dense(CLASSES, activation='softmax', kernel_initializer='he_normal')(x) #multi-class\n",
        "\n",
        "  # define the model \n",
        "\n",
        "  model = tf.keras.Model(inputs=input_im, outputs=x, name='Resnet50')\n",
        "\n",
        "  return model"
      ]
    },
    {
      "cell_type": "code",
      "execution_count": 11,
      "metadata": {
        "id": "OqJyu1nARqTt"
      },
      "outputs": [],
      "source": [
        "feature_model = Resnet50()"
      ]
    },
    {
      "cell_type": "code",
      "execution_count": 12,
      "metadata": {
        "id": "4ooJalEgRtGj"
      },
      "outputs": [],
      "source": [
        "img_a_in = tf.keras.layers.Input(shape =img_shape, name = 'ImageA_Input')\n",
        "img_b_in = tf.keras.layers.Input(shape =img_shape, name = 'ImageB_Input')\n",
        "img_a_feat = feature_model(img_a_in)\n",
        "img_b_feat = feature_model(img_b_in)\n",
        "combined_features = tf.keras.layers.concatenate([img_a_feat, img_b_feat], name='merge_features')\n",
        "combined_features = tf.keras.layers.Dense(16, activation = 'linear')(combined_features)\n",
        "combined_features = tf.keras.layers.BatchNormalization()(combined_features)\n",
        "combined_features = tf.keras.layers.Activation('relu')(combined_features)\n",
        "combined_features = tf.keras.layers.Dense(4, activation = 'linear')(combined_features)\n",
        "combined_features = tf.keras.layers.BatchNormalization()(combined_features)\n",
        "combined_features = tf.keras.layers.Activation('relu')(combined_features)\n",
        "combined_features = tf.keras.layers.Dense(1, activation = 'sigmoid')(combined_features)"
      ]
    },
    {
      "cell_type": "code",
      "execution_count": 13,
      "metadata": {
        "colab": {
          "base_uri": "https://localhost:8080/"
        },
        "id": "GqU0OcOPRwrJ",
        "outputId": "67259afa-7f22-4e96-997f-e477690331ef"
      },
      "outputs": [
        {
          "output_type": "stream",
          "name": "stdout",
          "text": [
            "Model: \"Similarity_Model\"\n",
            "__________________________________________________________________________________________________\n",
            " Layer (type)                   Output Shape         Param #     Connected to                     \n",
            "==================================================================================================\n",
            " ImageA_Input (InputLayer)      [(None, 28, 28, 1)]  0           []                               \n",
            "                                                                                                  \n",
            " ImageB_Input (InputLayer)      [(None, 28, 28, 1)]  0           []                               \n",
            "                                                                                                  \n",
            " Resnet50 (Functional)          (None, 10)           23601930    ['ImageA_Input[0][0]',           \n",
            "                                                                  'ImageB_Input[0][0]']           \n",
            "                                                                                                  \n",
            " merge_features (Concatenate)   (None, 20)           0           ['Resnet50[0][0]',               \n",
            "                                                                  'Resnet50[1][0]']               \n",
            "                                                                                                  \n",
            " dense_1 (Dense)                (None, 16)           336         ['merge_features[0][0]']         \n",
            "                                                                                                  \n",
            " batch_normalization_53 (BatchN  (None, 16)          64          ['dense_1[0][0]']                \n",
            " ormalization)                                                                                    \n",
            "                                                                                                  \n",
            " activation_49 (Activation)     (None, 16)           0           ['batch_normalization_53[0][0]'] \n",
            "                                                                                                  \n",
            " dense_2 (Dense)                (None, 4)            68          ['activation_49[0][0]']          \n",
            "                                                                                                  \n",
            " batch_normalization_54 (BatchN  (None, 4)           16          ['dense_2[0][0]']                \n",
            " ormalization)                                                                                    \n",
            "                                                                                                  \n",
            " activation_50 (Activation)     (None, 4)            0           ['batch_normalization_54[0][0]'] \n",
            "                                                                                                  \n",
            " dense_3 (Dense)                (None, 1)            5           ['activation_50[0][0]']          \n",
            "                                                                                                  \n",
            "==================================================================================================\n",
            "Total params: 23,602,419\n",
            "Trainable params: 23,549,259\n",
            "Non-trainable params: 53,160\n",
            "__________________________________________________________________________________________________\n"
          ]
        }
      ],
      "source": [
        "similarity_model = tf.keras.Model(inputs = [img_a_in, img_b_in], outputs=[combined_features], name = 'Similarity_Model')\n",
        "similarity_model.summary()"
      ]
    },
    {
      "cell_type": "code",
      "execution_count": 14,
      "metadata": {
        "id": "kjH311MTRy7K"
      },
      "outputs": [],
      "source": [
        "similarity_model.compile(optimizer=tf.keras.optimizers.Adam(learning_rate=1e-3),\n",
        "              loss='binary_crossentropy',\n",
        "              metrics=['mae'])"
      ]
    },
    {
      "cell_type": "code",
      "execution_count": 15,
      "metadata": {
        "id": "q-caYN8aR3JT"
      },
      "outputs": [],
      "source": [
        "early_stopping = tf.keras.callbacks.EarlyStopping(\n",
        "    monitor='val_loss',\n",
        "    min_delta=0,\n",
        "    patience=3,\n",
        "    verbose=0,\n",
        "    mode='auto',\n",
        "    baseline=None,\n",
        "    restore_best_weights=True\n",
        ")\n",
        "\n",
        "save_model = tf.keras.callbacks.ModelCheckpoint(\n",
        "    \"/content/drive/MyDrive/Classroom/similarity_model\",\n",
        "    monitor='val_loss',\n",
        "    verbose=0,\n",
        "    save_best_only=True,\n",
        "    save_weights_only=False,\n",
        ")\n",
        "reduce_lr = tf.keras.callbacks.ReduceLROnPlateau(monitor='val_loss', factor=0.2,\n",
        "                              patience=1, min_lr=0.0001)"
      ]
    },
    {
      "cell_type": "code",
      "execution_count": 16,
      "metadata": {
        "colab": {
          "base_uri": "https://localhost:8080/"
        },
        "id": "4unczxpZR5hz",
        "outputId": "4517b2f7-dc5b-4e96-fbfb-6f757a7abaef"
      },
      "outputs": [
        {
          "metadata": {
            "tags": null
          },
          "name": "stdout",
          "output_type": "stream",
          "text": [
            "Epoch 1/17\n",
            "750/750 [==============================] - ETA: 0s - loss: 0.6337 - mae: 0.4525"
          ]
        },
        {
          "metadata": {
            "tags": null
          },
          "name": "stderr",
          "output_type": "stream",
          "text": [
            "WARNING:absl:Function `_wrapped_model` contains input name(s) ImageA_Input, ImageB_Input with unsupported characters which will be renamed to imagea_input, imageb_input in the SavedModel.\n"
          ]
        },
        {
          "metadata": {
            "tags": null
          },
          "name": "stdout",
          "output_type": "stream",
          "text": [
            "INFO:tensorflow:Assets written to: /content/drive/MyDrive/Classroom/similarity_model/assets\n"
          ]
        },
        {
          "metadata": {
            "tags": null
          },
          "name": "stderr",
          "output_type": "stream",
          "text": [
            "INFO:tensorflow:Assets written to: /content/drive/MyDrive/Classroom/similarity_model/assets\n"
          ]
        },
        {
          "metadata": {
            "tags": null
          },
          "name": "stdout",
          "output_type": "stream",
          "text": [
            "750/750 [==============================] - 243s 293ms/step - loss: 0.6337 - mae: 0.4525 - val_loss: 0.5056 - val_mae: 0.3566 - lr: 0.0010\n",
            "Epoch 2/17\n",
            "750/750 [==============================] - ETA: 0s - loss: 0.5402 - mae: 0.3687"
          ]
        },
        {
          "metadata": {
            "tags": null
          },
          "name": "stderr",
          "output_type": "stream",
          "text": [
            "WARNING:absl:Function `_wrapped_model` contains input name(s) ImageA_Input, ImageB_Input with unsupported characters which will be renamed to imagea_input, imageb_input in the SavedModel.\n"
          ]
        },
        {
          "metadata": {
            "tags": null
          },
          "name": "stdout",
          "output_type": "stream",
          "text": [
            "INFO:tensorflow:Assets written to: /content/drive/MyDrive/Classroom/similarity_model/assets\n"
          ]
        },
        {
          "metadata": {
            "tags": null
          },
          "name": "stderr",
          "output_type": "stream",
          "text": [
            "INFO:tensorflow:Assets written to: /content/drive/MyDrive/Classroom/similarity_model/assets\n"
          ]
        },
        {
          "metadata": {
            "tags": null
          },
          "name": "stdout",
          "output_type": "stream",
          "text": [
            "750/750 [==============================] - 214s 285ms/step - loss: 0.5402 - mae: 0.3687 - val_loss: 0.5035 - val_mae: 0.3439 - lr: 0.0010\n",
            "Epoch 3/17\n",
            "750/750 [==============================] - ETA: 0s - loss: 0.4724 - mae: 0.3251"
          ]
        },
        {
          "metadata": {
            "tags": null
          },
          "name": "stderr",
          "output_type": "stream",
          "text": [
            "WARNING:absl:Function `_wrapped_model` contains input name(s) ImageA_Input, ImageB_Input with unsupported characters which will be renamed to imagea_input, imageb_input in the SavedModel.\n"
          ]
        },
        {
          "metadata": {
            "tags": null
          },
          "name": "stdout",
          "output_type": "stream",
          "text": [
            "INFO:tensorflow:Assets written to: /content/drive/MyDrive/Classroom/similarity_model/assets\n"
          ]
        },
        {
          "metadata": {
            "tags": null
          },
          "name": "stderr",
          "output_type": "stream",
          "text": [
            "INFO:tensorflow:Assets written to: /content/drive/MyDrive/Classroom/similarity_model/assets\n"
          ]
        },
        {
          "metadata": {
            "tags": null
          },
          "name": "stdout",
          "output_type": "stream",
          "text": [
            "750/750 [==============================] - 213s 284ms/step - loss: 0.4724 - mae: 0.3251 - val_loss: 0.4599 - val_mae: 0.3281 - lr: 0.0010\n",
            "Epoch 4/17\n",
            "750/750 [==============================] - ETA: 0s - loss: 0.3427 - mae: 0.2269"
          ]
        },
        {
          "metadata": {
            "tags": null
          },
          "name": "stderr",
          "output_type": "stream",
          "text": [
            "WARNING:absl:Function `_wrapped_model` contains input name(s) ImageA_Input, ImageB_Input with unsupported characters which will be renamed to imagea_input, imageb_input in the SavedModel.\n"
          ]
        },
        {
          "metadata": {
            "tags": null
          },
          "name": "stdout",
          "output_type": "stream",
          "text": [
            "INFO:tensorflow:Assets written to: /content/drive/MyDrive/Classroom/similarity_model/assets\n"
          ]
        },
        {
          "metadata": {
            "tags": null
          },
          "name": "stderr",
          "output_type": "stream",
          "text": [
            "INFO:tensorflow:Assets written to: /content/drive/MyDrive/Classroom/similarity_model/assets\n"
          ]
        },
        {
          "output_type": "stream",
          "name": "stdout",
          "text": [
            "750/750 [==============================] - 214s 285ms/step - loss: 0.3427 - mae: 0.2269 - val_loss: 0.3153 - val_mae: 0.2167 - lr: 0.0010\n",
            "Epoch 5/17\n",
            "750/750 [==============================] - 182s 243ms/step - loss: 0.3287 - mae: 0.2095 - val_loss: 0.3171 - val_mae: 0.2139 - lr: 0.0010\n",
            "Epoch 6/17\n",
            "750/750 [==============================] - ETA: 0s - loss: 0.2936 - mae: 0.1939"
          ]
        },
        {
          "output_type": "stream",
          "name": "stderr",
          "text": [
            "WARNING:absl:Function `_wrapped_model` contains input name(s) ImageA_Input, ImageB_Input with unsupported characters which will be renamed to imagea_input, imageb_input in the SavedModel.\n"
          ]
        },
        {
          "output_type": "stream",
          "name": "stdout",
          "text": [
            "INFO:tensorflow:Assets written to: /content/drive/MyDrive/Classroom/similarity_model/assets\n"
          ]
        },
        {
          "output_type": "stream",
          "name": "stderr",
          "text": [
            "INFO:tensorflow:Assets written to: /content/drive/MyDrive/Classroom/similarity_model/assets\n"
          ]
        },
        {
          "output_type": "stream",
          "name": "stdout",
          "text": [
            "\b\b\b\b\b\b\b\b\b\b\b\b\b\b\b\b\b\b\b\b\b\b\b\b\b\b\b\b\b\b\b\b\b\b\b\b\b\b\b\b\b\b\b\b\b\b\b\b\b\b\b\b\b\b\b\b\b\b\b\b\b\b\b\b\b\b\b\b\b\b\b\b\b\b\b\b\b\b\b\r750/750 [==============================] - 215s 287ms/step - loss: 0.2936 - mae: 0.1939 - val_loss: 0.2664 - val_mae: 0.1756 - lr: 2.0000e-04\n",
            "Epoch 7/17\n",
            "750/750 [==============================] - ETA: 0s - loss: 0.2770 - mae: 0.1808"
          ]
        },
        {
          "output_type": "stream",
          "name": "stderr",
          "text": [
            "WARNING:absl:Function `_wrapped_model` contains input name(s) ImageA_Input, ImageB_Input with unsupported characters which will be renamed to imagea_input, imageb_input in the SavedModel.\n"
          ]
        },
        {
          "output_type": "stream",
          "name": "stdout",
          "text": [
            "INFO:tensorflow:Assets written to: /content/drive/MyDrive/Classroom/similarity_model/assets\n"
          ]
        },
        {
          "output_type": "stream",
          "name": "stderr",
          "text": [
            "INFO:tensorflow:Assets written to: /content/drive/MyDrive/Classroom/similarity_model/assets\n"
          ]
        },
        {
          "output_type": "stream",
          "name": "stdout",
          "text": [
            "\b\b\b\b\b\b\b\b\b\b\b\b\b\b\b\b\b\b\b\b\b\b\b\b\b\b\b\b\b\b\b\b\b\b\b\b\b\b\b\b\b\b\b\b\b\b\b\b\b\b\b\b\b\b\b\b\b\b\b\b\b\b\b\b\b\b\b\b\b\b\b\b\b\b\b\b\b\b\b\r750/750 [==============================] - 214s 286ms/step - loss: 0.2770 - mae: 0.1808 - val_loss: 0.2587 - val_mae: 0.1707 - lr: 2.0000e-04\n",
            "Epoch 8/17\n",
            "750/750 [==============================] - ETA: 0s - loss: 0.2735 - mae: 0.1763"
          ]
        },
        {
          "output_type": "stream",
          "name": "stderr",
          "text": [
            "WARNING:absl:Function `_wrapped_model` contains input name(s) ImageA_Input, ImageB_Input with unsupported characters which will be renamed to imagea_input, imageb_input in the SavedModel.\n"
          ]
        },
        {
          "output_type": "stream",
          "name": "stdout",
          "text": [
            "INFO:tensorflow:Assets written to: /content/drive/MyDrive/Classroom/similarity_model/assets\n"
          ]
        },
        {
          "output_type": "stream",
          "name": "stderr",
          "text": [
            "INFO:tensorflow:Assets written to: /content/drive/MyDrive/Classroom/similarity_model/assets\n"
          ]
        },
        {
          "output_type": "stream",
          "name": "stdout",
          "text": [
            "\b\b\b\b\b\b\b\b\b\b\b\b\b\b\b\b\b\b\b\b\b\b\b\b\b\b\b\b\b\b\b\b\b\b\b\b\b\b\b\b\b\b\b\b\b\b\b\b\b\b\b\b\b\b\b\b\b\b\b\b\b\b\b\b\b\b\b\b\b\b\b\b\b\b\b\b\b\b\b\r750/750 [==============================] - 212s 283ms/step - loss: 0.2735 - mae: 0.1763 - val_loss: 0.2438 - val_mae: 0.1595 - lr: 2.0000e-04\n",
            "Epoch 9/17\n",
            "750/750 [==============================] - 180s 240ms/step - loss: 0.2577 - mae: 0.1673 - val_loss: 0.2479 - val_mae: 0.1538 - lr: 2.0000e-04\n",
            "Epoch 10/17\n",
            "750/750 [==============================] - ETA: 0s - loss: 0.2431 - mae: 0.1586"
          ]
        },
        {
          "output_type": "stream",
          "name": "stderr",
          "text": [
            "WARNING:absl:Function `_wrapped_model` contains input name(s) ImageA_Input, ImageB_Input with unsupported characters which will be renamed to imagea_input, imageb_input in the SavedModel.\n"
          ]
        },
        {
          "output_type": "stream",
          "name": "stdout",
          "text": [
            "INFO:tensorflow:Assets written to: /content/drive/MyDrive/Classroom/similarity_model/assets\n"
          ]
        },
        {
          "output_type": "stream",
          "name": "stderr",
          "text": [
            "INFO:tensorflow:Assets written to: /content/drive/MyDrive/Classroom/similarity_model/assets\n"
          ]
        },
        {
          "output_type": "stream",
          "name": "stdout",
          "text": [
            "\b\b\b\b\b\b\b\b\b\b\b\b\b\b\b\b\b\b\b\b\b\b\b\b\b\b\b\b\b\b\b\b\b\b\b\b\b\b\b\b\b\b\b\b\b\b\b\b\b\b\b\b\b\b\b\b\b\b\b\b\b\b\b\b\b\b\b\b\b\b\b\b\b\b\b\b\b\b\b\r750/750 [==============================] - 213s 284ms/step - loss: 0.2431 - mae: 0.1586 - val_loss: 0.2218 - val_mae: 0.1479 - lr: 1.0000e-04\n",
            "Epoch 11/17\n",
            "750/750 [==============================] - 180s 240ms/step - loss: 0.2344 - mae: 0.1530 - val_loss: 0.2232 - val_mae: 0.1445 - lr: 1.0000e-04\n",
            "Epoch 12/17\n",
            "750/750 [==============================] - 180s 240ms/step - loss: 0.2333 - mae: 0.1508 - val_loss: 0.2315 - val_mae: 0.1437 - lr: 1.0000e-04\n",
            "Epoch 13/17\n",
            "750/750 [==============================] - 180s 240ms/step - loss: 0.2268 - mae: 0.1466 - val_loss: 0.2329 - val_mae: 0.1395 - lr: 1.0000e-04\n"
          ]
        }
      ],
      "source": [
        "EPOCH = 17\n",
        "BS = 128\n",
        "history = similarity_model.fit([x_tra[:,0], x_tra[:, 1]], y_tra, epochs=EPOCH, batch_size=BS, \n",
        "                    validation_data=([x_val[:, 0], x_val[:, 1]], y_val), callbacks=[early_stopping, save_model, reduce_lr])"
      ]
    },
    {
      "cell_type": "code",
      "execution_count": 17,
      "metadata": {
        "colab": {
          "base_uri": "https://localhost:8080/",
          "height": 281
        },
        "id": "cOWAH5QhR8Tj",
        "outputId": "94cf18f8-4b4e-428c-8528-b6ecdd5185e3"
      },
      "outputs": [
        {
          "output_type": "display_data",
          "data": {
            "text/plain": [
              "<Figure size 432x288 with 1 Axes>"
            ],
            "image/png": "[encoded data removed]"
          },
          "metadata": {
            "needs_background": "light"
          }
        }
      ],
      "source": [
        "import matplotlib.pyplot as plt\n",
        "\n",
        "\n",
        "def plot_history(history):\n",
        "    plt.title('Train/validation loss')\n",
        "    plt.plot(history.history['loss'], label = 'training loss')\n",
        "    plt.plot(history.history['val_loss'], label = 'validation loss')\n",
        "    plt.grid()\n",
        "    plt.legend()\n",
        "    plt.ylim(0,1)\n",
        "    plt.show()\n",
        "\n",
        "plot_history(history)"
      ]
    },
    {
      "cell_type": "code",
      "execution_count": 18,
      "metadata": {
        "colab": {
          "base_uri": "https://localhost:8080/",
          "height": 355
        },
        "id": "21IDHFAuXlLQ",
        "outputId": "fcd7f7cb-9445-40fc-ab0b-85492b74b262"
      },
      "outputs": [
        {
          "output_type": "display_data",
          "data": {
            "text/plain": [
              "<Figure size 864x432 with 10 Axes>"
            ],
            "image/png": "[encoded data removed]"
          },
          "metadata": {
            "needs_background": "light"
          }
        }
      ],
      "source": [
        "def show_model_output(nb_examples = 3):\n",
        "    pv_a, pv_b, pv_sim  = te_pairs[:nb_examples, 0], te_pairs[:nb_examples, 1], te_y[:nb_examples]\n",
        "\n",
        "    pred_sim = similarity_model.predict([pv_a, pv_b])\n",
        "    fig, m_axs = plt.subplots(2, pv_a.shape[0], figsize = (12, 6))\n",
        "    for c_a, c_b, c_d, p_d, (ax1, ax2) in zip(pv_a, pv_b, pv_sim, pred_sim, m_axs.T):\n",
        "\n",
        "        ax1.imshow(c_a)\n",
        "        ax1.set_title('Image A\\n Actual: %3.0f%%' % (100*c_d))\n",
        "        ax1.axis('off')\n",
        "        ax2.imshow(c_b)\n",
        "        ax2.set_title('Image B\\n Predicted: %3.0f%%' % (100*p_d))\n",
        "        ax2.axis('off')\n",
        "    return fig\n",
        "    # a completely untrained model\n",
        "_ = show_model_output(5)"
      ]
    },
    {
      "cell_type": "code",
      "execution_count": 19,
      "metadata": {
        "id": "zZ1pvhG6XqKc"
      },
      "outputs": [],
      "source": [
        "def find_similar(image, images, count=3, threshold=50):\n",
        "    pv_a, pv_b = np.reshape([image]*len(images), (len(images), 28,28)), np.reshape(images, (len(images), 28,28))\n",
        "    pred_sim = similarity_model.predict([pv_a, pv_b]).ravel()\n",
        "    indxs = np.argsort(pred_sim)[::-1][:count]\n",
        "    \n",
        "    fig, m_axs = plt.subplots(2, count, figsize = (12, 6))\n",
        "    i = 0\n",
        "    for c_a, (ax1, ax2) in zip(pv_a[:count], m_axs.T):\n",
        "        \n",
        "        ax1.imshow(c_a)\n",
        "        ax1.set_title('Input image\\n')\n",
        "        ax1.axis('off')\n",
        "        ax2.imshow(pv_b[indxs[i]])\n",
        "        ax2.set_title('Similar\\n Predicted: %3.0f%%' % (100*pred_sim[indxs[i]]))\n",
        "        ax2.axis('off')\n",
        "        i += 1"
      ]
    },
    {
      "cell_type": "code",
      "execution_count": 20,
      "metadata": {
        "colab": {
          "base_uri": "https://localhost:8080/",
          "height": 388
        },
        "id": "ClHoSvtlX5Fn",
        "outputId": "e978f2de-d057-432b-c086-ab2aac3b2f19"
      },
      "outputs": [
        {
          "output_type": "display_data",
          "data": {
            "text/plain": [
              "<Figure size 864x432 with 6 Axes>"
            ],
            "image/png": "[encoded data removed]"
          },
          "metadata": {
            "needs_background": "light"
          }
        }
      ],
      "source": [
        "find_similar(test_images[1], images=test_images[1:50])"
      ]
    },
    {
      "cell_type": "code",
      "execution_count": 21,
      "metadata": {
        "id": "f6uKxMPeX67j"
      },
      "outputs": [],
      "source": [
        "def find_similar(image, images, count=3, threshold=50):\n",
        "    pv_a, pv_b = np.reshape([image]*len(images), (len(images), 28,28)), np.reshape(images, (len(images), 28,28))\n",
        "    pred_sim = similarity_model.predict([pv_a, pv_b]).ravel()\n",
        "    indxs = np.argsort(pred_sim)[::-1][:count]\n",
        "    \n",
        "    fig, m_axs = plt.subplots(2, count, figsize = (12, 6))\n",
        "    i = 0\n",
        "    for c_a, (ax1, ax2) in zip(pv_a[:count], m_axs.T):\n",
        "        \n",
        "        ax1.imshow(c_a)\n",
        "        ax1.set_title('Input image\\n')\n",
        "        ax1.axis('off')\n",
        "        ax2.imshow(pv_b[indxs[i]])\n",
        "        ax2.set_title('Similar\\n Predicted: %3.0f%%' % (100*pred_sim[indxs[i]]))\n",
        "        ax2.axis('off')\n",
        "        i += 1"
      ]
    },
    {
      "cell_type": "code",
      "execution_count": 22,
      "metadata": {
        "colab": {
          "base_uri": "https://localhost:8080/",
          "height": 388
        },
        "id": "ER1y2mWkzI70",
        "outputId": "15552da7-032c-4a00-d51e-54ec4ba21137"
      },
      "outputs": [
        {
          "output_type": "display_data",
          "data": {
            "text/plain": [
              "<Figure size 864x432 with 6 Axes>"
            ],
            "image/png": "[encoded data removed]"
          },
          "metadata": {
            "needs_background": "light"
          }
        }
      ],
      "source": [
        "find_similar(test_images[1], images=test_images[1:50])"
      ]
    },
    {
      "cell_type": "code",
      "execution_count": 23,
      "metadata": {
        "colab": {
          "base_uri": "https://localhost:8080/"
        },
        "id": "Pn5kd0HdzLQU",
        "outputId": "29a47067-9548-4719-e900-dda52b02fac8"
      },
      "outputs": [
        {
          "output_type": "stream",
          "name": "stdout",
          "text": [
            "79/79 [==============================] - 4s 36ms/step\n"
          ]
        }
      ],
      "source": [
        "x_test_features = feature_model.predict(test_images, verbose = True,batch_size=BS)"
      ]
    },
    {
      "cell_type": "code",
      "execution_count": 24,
      "metadata": {
        "colab": {
          "base_uri": "https://localhost:8080/"
        },
        "id": "O_GvHQwizQhC",
        "outputId": "4c143823-31ed-41ea-b7fd-c1e63e4924ac"
      },
      "outputs": [
        {
          "output_type": "stream",
          "name": "stderr",
          "text": [
            "/usr/local/lib/python3.7/dist-packages/sklearn/manifold/_t_sne.py:793: FutureWarning: The default learning rate in TSNE will change from 200.0 to 'auto' in 1.2.\n",
            "  FutureWarning,\n"
          ]
        },
        {
          "output_type": "stream",
          "name": "stdout",
          "text": [
            "[t-SNE] Computing 91 nearest neighbors...\n",
            "[t-SNE] Indexed 10000 samples in 0.013s...\n",
            "[t-SNE] Computed neighbors for 10000 samples in 0.217s...\n",
            "[t-SNE] Computed conditional probabilities for sample 1000 / 10000\n",
            "[t-SNE] Computed conditional probabilities for sample 2000 / 10000\n",
            "[t-SNE] Computed conditional probabilities for sample 3000 / 10000\n",
            "[t-SNE] Computed conditional probabilities for sample 4000 / 10000\n",
            "[t-SNE] Computed conditional probabilities for sample 5000 / 10000\n",
            "[t-SNE] Computed conditional probabilities for sample 6000 / 10000\n",
            "[t-SNE] Computed conditional probabilities for sample 7000 / 10000\n",
            "[t-SNE] Computed conditional probabilities for sample 8000 / 10000\n",
            "[t-SNE] Computed conditional probabilities for sample 9000 / 10000\n",
            "[t-SNE] Computed conditional probabilities for sample 10000 / 10000\n",
            "[t-SNE] Mean sigma: 0.000000\n",
            "[t-SNE] Computed conditional probabilities in 0.872s\n"
          ]
        },
        {
          "output_type": "stream",
          "name": "stderr",
          "text": [
            "/usr/local/lib/python3.7/dist-packages/sklearn/manifold/_t_sne.py:986: FutureWarning: The PCA initialization in TSNE will change to have the standard deviation of PC1 equal to 1e-4 in 1.2. This will ensure better convergence.\n",
            "  FutureWarning,\n"
          ]
        },
        {
          "output_type": "stream",
          "name": "stdout",
          "text": [
            "[t-SNE] Iteration 50: error = 76.9950867, gradient norm = 0.0106587 (50 iterations in 4.084s)\n",
            "[t-SNE] Iteration 100: error = 68.2295227, gradient norm = 0.0046165 (50 iterations in 3.878s)\n",
            "[t-SNE] Iteration 150: error = 64.4995346, gradient norm = 0.0034594 (50 iterations in 3.576s)\n",
            "[t-SNE] Iteration 200: error = 62.2542191, gradient norm = 0.0026267 (50 iterations in 3.481s)\n",
            "[t-SNE] Iteration 250: error = 60.7085114, gradient norm = 0.0023091 (50 iterations in 3.465s)\n",
            "[t-SNE] KL divergence after 250 iterations with early exaggeration: 60.708511\n",
            "[t-SNE] Iteration 300: error = 1.9577327, gradient norm = 0.0012351 (50 iterations in 3.483s)\n",
            "[t-SNE] Iteration 350: error = 1.3966076, gradient norm = 0.0006372 (50 iterations in 3.517s)\n",
            "[t-SNE] Iteration 400: error = 1.0836259, gradient norm = 0.0003903 (50 iterations in 3.433s)\n",
            "[t-SNE] Iteration 450: error = 0.8979921, gradient norm = 0.0002675 (50 iterations in 3.445s)\n",
            "[t-SNE] Iteration 500: error = 0.7776348, gradient norm = 0.0001966 (50 iterations in 3.478s)\n",
            "[t-SNE] KL divergence after 500 iterations: 0.777635\n",
            "CPU times: user 1min 4s, sys: 566 ms, total: 1min 5s\n",
            "Wall time: 37.3 s\n"
          ]
        }
      ],
      "source": [
        "%%time\n",
        "from sklearn.manifold import TSNE\n",
        "tsne_obj = TSNE(n_components=2,\n",
        "                init='pca',\n",
        "                random_state=101,\n",
        "                method='barnes_hut',\n",
        "                n_iter=500,\n",
        "                verbose=2)\n",
        "tsne_features = tsne_obj.fit_transform(x_test_features)"
      ]
    },
    {
      "cell_type": "code",
      "execution_count": 25,
      "metadata": {
        "colab": {
          "base_uri": "https://localhost:8080/",
          "height": 50
        },
        "id": "c5XgJrLnzT0W",
        "outputId": "e765338e-e1dd-4e75-b8b3-9d6eeab1814f"
      },
      "outputs": [
        {
          "output_type": "execute_result",
          "data": {
            "text/plain": [
              "<Figure size 720x720 with 0 Axes>"
            ]
          },
          "metadata": {},
          "execution_count": 25
        },
        {
          "output_type": "display_data",
          "data": {
            "text/plain": [
              "<Figure size 720x720 with 0 Axes>"
            ]
          },
          "metadata": {}
        }
      ],
      "source": [
        "obj_categories = ['T-shirt/top','Trouser','Pullover','Dress',\n",
        "'Coat','Sandal','Shirt','Sneaker','Bag','Ankle boot'\n",
        "]\n",
        "colors = plt.cm.rainbow(np.linspace(0, 1, 10))\n",
        "plt.figure(figsize=(10, 10))"
      ]
    },
    {
      "cell_type": "code",
      "execution_count": 26,
      "metadata": {
        "colab": {
          "base_uri": "https://localhost:8080/",
          "height": 295
        },
        "id": "bg3RVWJLzgkX",
        "outputId": "2a99d430-539c-41df-cd5c-28255e47a5d4"
      },
      "outputs": [
        {
          "output_type": "display_data",
          "data": {
            "text/plain": [
              "<Figure size 432x288 with 1 Axes>"
            ],
            "image/png": "[encoded data removed]"
          },
          "metadata": {
            "needs_background": "light"
          }
        }
      ],
      "source": [
        "for c_group, (c_color, c_label) in enumerate(zip(colors, obj_categories)):\n",
        "    plt.scatter(tsne_features[np.where(test_labels == c_group), 0],\n",
        "    tsne_features[np.where(test_labels == c_group), 1],\n",
        "    marker='o',\n",
        "    color=c_color,\n",
        "    linewidth='1',\n",
        "    alpha=0.8,\n",
        "    label=c_label)\n",
        "plt.xlabel('Dimension 1')\n",
        "plt.ylabel('Dimension 2')\n",
        "plt.title('t-SNE on Testing Samples')\n",
        "plt.legend(loc='best')\n",
        "plt.savefig('clothes-dist.png')\n",
        "plt.show(block=False)"
      ]
    },
    {
      "cell_type": "code",
      "execution_count": null,
      "metadata": {
        "id": "NwtREU_VzjZe"
      },
      "outputs": [],
      "source": [
        ""
      ]
    },
    {
      "cell_type": "code",
      "execution_count": null,
      "metadata": {
        "id": "jQ-xhW-plPvL"
      },
      "outputs": [],
      "source": [
        ""
      ]
    }
  ],
  "metadata": {
    "accelerator": "GPU",
    "colab": {
      "collapsed_sections": [],
      "name": "Lab3.ipynb",
      "provenance": []
    },
    "kernelspec": {
      "display_name": "Python 3 (ipykernel)",
      "language": "python",
      "name": "python3"
    },
    "language_info": {
      "codemirror_mode": {
        "name": "ipython",
        "version": 3
      },
      "file_extension": ".py",
      "mimetype": "text/x-python",
      "name": "python",
      "nbconvert_exporter": "python",
      "pygments_lexer": "ipython3",
      "version": "3.9.7"
    }
  },
  "nbformat": 4,
  "nbformat_minor": 0
}