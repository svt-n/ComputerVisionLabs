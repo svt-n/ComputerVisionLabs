{
  "cells": [
    {
      "cell_type": "code",
      "execution_count": null,
      "metadata": {
        "colab": {
          "base_uri": "https://localhost:8080/"
        },
        "id": "rRBp33eFtotJ",
        "outputId": "5f2e8f6f-243a-4381-8066-8574e821c600"
      },
      "outputs": [
        {
          "name": "stdout",
          "output_type": "stream",
          "text": [
            "2.14.0\n"
          ]
        }
      ],
      "source": [
        "import cv2\n",
        "import datetime\n",
        "import os\n",
        "import numpy as np\n",
        "import pandas as pd\n",
        "import tensorflow as tf\n",
        "import matplotlib.pyplot as plt\n",
        "import seaborn as sns\n",
        "import PIL\n",
        "import PIL.Image\n",
        "\n",
        "from sklearn.utils import shuffle\n",
        "from sklearn.model_selection import train_test_split\n",
        "from sklearn.metrics import classification_report, confusion_matrix, accuracy_score, recall_score\n",
        "\n",
        "from tensorflow.keras import backend as K\n",
        "from tensorflow.keras import layers\n",
        "from tensorflow.keras import Model, Sequential\n",
        "from tensorflow.keras.utils import plot_model\n",
        "from tensorflow.keras.callbacks import ReduceLROnPlateau, ModelCheckpoint, EarlyStopping\n",
        "from tensorflow.keras.preprocessing.image import ImageDataGenerator\n",
        "\n",
        "print(tf.__version__)"
      ]
    },
    {
      "cell_type": "code",
      "execution_count": null,
      "metadata": {
        "colab": {
          "base_uri": "https://localhost:8080/"
        },
        "id": "eaERXTq7vbei",
        "outputId": "cf712e16-6779-4aaa-e57a-2a2ef038e1af"
      },
      "outputs": [
        {
          "name": "stdout",
          "output_type": "stream",
          "text": [
            "Collecting tensorflow-addons\n",
            "  Downloading tensorflow_addons-0.22.0-cp310-cp310-manylinux_2_17_x86_64.manylinux2014_x86_64.whl (612 kB)\n",
            "\u001b[2K     \u001b[90m━━━━━━━━━━━━━━━━━━━━━━━━━━━━━━━━━━━━━━━━\u001b[0m \u001b[32m612.3/612.3 kB\u001b[0m \u001b[31m13.1 MB/s\u001b[0m eta \u001b[36m0:00:00\u001b[0m\n",
            "\u001b[?25hRequirement already satisfied: packaging in /usr/local/lib/python3.10/dist-packages (from tensorflow-addons) (23.2)\n",
            "Collecting typeguard<3.0.0,>=2.7 (from tensorflow-addons)\n",
            "  Downloading typeguard-2.13.3-py3-none-any.whl (17 kB)\n",
            "Installing collected packages: typeguard, tensorflow-addons\n",
            "Successfully installed tensorflow-addons-0.22.0 typeguard-2.13.3\n"
          ]
        },
        {
          "name": "stderr",
          "output_type": "stream",
          "text": [
            "/usr/local/lib/python3.10/dist-packages/tensorflow_addons/utils/tfa_eol_msg.py:23: UserWarning: \n",
            "\n",
            "TensorFlow Addons (TFA) has ended development and introduction of new features.\n",
            "TFA has entered a minimal maintenance and release mode until a planned end of life in May 2024.\n",
            "Please modify downstream libraries to take dependencies from other repositories in our TensorFlow community (e.g. Keras, Keras-CV, and Keras-NLP). \n",
            "\n",
            "For more information see: https://github.com/tensorflow/addons/issues/2807 \n",
            "\n",
            "  warnings.warn(\n"
          ]
        }
      ],
      "source": [
        "!pip install tensorflow-addons\n",
        "import tensorflow_addons as tfa"
      ]
    },
    {
      "cell_type": "code",
      "execution_count": null,
      "metadata": {
        "id": "Kch3djOJwqYL"
      },
      "outputs": [],
      "source": [
        "BATCH_SIZE = 16\n",
        "EPOCHS = 30\n",
        "IM_SIZE_W = 300\n",
        "IM_SIZE_H = 400\n",
        "\n",
        "AUTOTUNE = tf.data.experimental.AUTOTUNE\n",
        "\n",
        "tf.random.set_seed(10)"
      ]
    },
    {
      "cell_type": "code",
      "execution_count": null,
      "metadata": {
        "colab": {
          "base_uri": "https://localhost:8080/"
        },
        "id": "q1Yr0hDoxPew",
        "outputId": "791edfb8-4224-4494-dc1f-de1101f554f0"
      },
      "outputs": [
        {
          "name": "stdout",
          "output_type": "stream",
          "text": [
            "Found GPU as: /device:GPU:0\n"
          ]
        }
      ],
      "source": [
        "device_name = tf.test.gpu_device_name()\n",
        "if \"GPU\" not in device_name:\n",
        "  print(\"GPU device not found\")\n",
        "print('Found GPU as: {}'.format(device_name))"
      ]
    },
    {
      "cell_type": "code",
      "execution_count": null,
      "metadata": {
        "colab": {
          "base_uri": "https://localhost:8080/"
        },
        "id": "TmutVFMhxekQ",
        "outputId": "5dc234e2-8d8b-4581-c2dc-a341e157c4cb"
      },
      "outputs": [
        {
          "name": "stdout",
          "output_type": "stream",
          "text": [
            "Drive already mounted at /content/drive; to attempt to forcibly remount, call drive.mount(\"/content/drive\", force_remount=True).\n"
          ]
        }
      ],
      "source": [
        "from google.colab import drive\n",
        "drive. mount('/content/drive')"
      ]
    },
    {
      "cell_type": "code",
      "execution_count": null,
      "metadata": {
        "colab": {
          "base_uri": "https://localhost:8080/"
        },
        "id": "alsGyccExlxh",
        "outputId": "2706c079-f059-4086-acb1-a0af5e8180ce"
      },
      "outputs": [
        {
          "name": "stdout",
          "output_type": "stream",
          "text": [
            "/content/drive/MyDrive/archive (3)\n",
            "/content/drive/MyDrive/archive (3)/Curated X-Ray Dataset\n",
            "/content/drive/MyDrive/archive (3)/Curated X-Ray Dataset/COVID-19\n",
            "/content/drive/MyDrive/archive (3)/Curated X-Ray Dataset/Pneumonia-Viral\n",
            "/content/drive/MyDrive/archive (3)/Curated X-Ray Dataset/Normal\n",
            "/content/drive/MyDrive/archive (3)/Curated X-Ray Dataset/Pneumonia-Bacterial\n"
          ]
        }
      ],
      "source": [
        "for dirname, _, filenames in os.walk('/content/drive/MyDrive/archive (3)'):\n",
        "    print(dirname)"
      ]
    },
    {
      "cell_type": "code",
      "execution_count": null,
      "metadata": {
        "colab": {
          "base_uri": "https://localhost:8080/"
        },
        "id": "rLDIMP6k4oca",
        "outputId": "62044124-e5e1-46bb-ad3e-bc573427269d"
      },
      "outputs": [
        {
          "name": "stdout",
          "output_type": "stream",
          "text": [
            "9218\n"
          ]
        },
        {
          "data": {
            "text/plain": [
              "['/content/drive/MyDrive/archive (3)/Curated X-Ray Dataset/COVID-19/COVID-19 (1252).jpg',\n",
              " '/content/drive/MyDrive/archive (3)/Curated X-Ray Dataset/COVID-19/COVID-19 (1251).jpg',\n",
              " '/content/drive/MyDrive/archive (3)/Curated X-Ray Dataset/COVID-19/COVID-19 (1249).jpg']"
            ]
          },
          "execution_count": 7,
          "metadata": {},
          "output_type": "execute_result"
        }
      ],
      "source": [
        "filenames = tf.io.gfile.glob('/content/drive/MyDrive/archive (3)/Curated X-Ray Dataset/*/*')\n",
        "print(len(filenames))\n",
        "filenames[:3]"
      ]
    },
    {
      "cell_type": "code",
      "execution_count": null,
      "metadata": {
        "colab": {
          "base_uri": "https://localhost:8080/",
          "height": 510
        },
        "id": "ajxDMNev43ka",
        "outputId": "57cc7e2e-8b5f-4574-fca5-7503451abbc1"
      },
      "outputs": [
        {
          "name": "stdout",
          "output_type": "stream",
          "text": [
            "Normal                 3270\n",
            "Pneumonia-Bacterial    3011\n",
            "Pneumonia-Viral        1656\n",
            "COVID-19               1281\n",
            "Name: class, dtype: int64\n"
          ]
        },
        {
          "data": {
            "text/html": [
              "\n",
              "  <div id=\"df-a5ef2733-053f-443b-9a99-2f894ba85c3f\" class=\"colab-df-container\">\n",
              "    <div>\n",
              "<style scoped>\n",
              "    .dataframe tbody tr th:only-of-type {\n",
              "        vertical-align: middle;\n",
              "    }\n",
              "\n",
              "    .dataframe tbody tr th {\n",
              "        vertical-align: top;\n",
              "    }\n",
              "\n",
              "    .dataframe thead th {\n",
              "        text-align: right;\n",
              "    }\n",
              "</style>\n",
              "<table border=\"1\" class=\"dataframe\">\n",
              "  <thead>\n",
              "    <tr style=\"text-align: right;\">\n",
              "      <th></th>\n",
              "      <th>filename</th>\n",
              "      <th>class</th>\n",
              "    </tr>\n",
              "  </thead>\n",
              "  <tbody>\n",
              "    <tr>\n",
              "      <th>0</th>\n",
              "      <td>/content/drive/MyDrive/archive (3)/Curated X-R...</td>\n",
              "      <td>COVID-19</td>\n",
              "    </tr>\n",
              "    <tr>\n",
              "      <th>1</th>\n",
              "      <td>/content/drive/MyDrive/archive (3)/Curated X-R...</td>\n",
              "      <td>COVID-19</td>\n",
              "    </tr>\n",
              "    <tr>\n",
              "      <th>2</th>\n",
              "      <td>/content/drive/MyDrive/archive (3)/Curated X-R...</td>\n",
              "      <td>COVID-19</td>\n",
              "    </tr>\n",
              "    <tr>\n",
              "      <th>3</th>\n",
              "      <td>/content/drive/MyDrive/archive (3)/Curated X-R...</td>\n",
              "      <td>COVID-19</td>\n",
              "    </tr>\n",
              "    <tr>\n",
              "      <th>4</th>\n",
              "      <td>/content/drive/MyDrive/archive (3)/Curated X-R...</td>\n",
              "      <td>COVID-19</td>\n",
              "    </tr>\n",
              "    <tr>\n",
              "      <th>...</th>\n",
              "      <td>...</td>\n",
              "      <td>...</td>\n",
              "    </tr>\n",
              "    <tr>\n",
              "      <th>9213</th>\n",
              "      <td>/content/drive/MyDrive/archive (3)/Curated X-R...</td>\n",
              "      <td>Normal</td>\n",
              "    </tr>\n",
              "    <tr>\n",
              "      <th>9214</th>\n",
              "      <td>/content/drive/MyDrive/archive (3)/Curated X-R...</td>\n",
              "      <td>Normal</td>\n",
              "    </tr>\n",
              "    <tr>\n",
              "      <th>9215</th>\n",
              "      <td>/content/drive/MyDrive/archive (3)/Curated X-R...</td>\n",
              "      <td>Normal</td>\n",
              "    </tr>\n",
              "    <tr>\n",
              "      <th>9216</th>\n",
              "      <td>/content/drive/MyDrive/archive (3)/Curated X-R...</td>\n",
              "      <td>Normal</td>\n",
              "    </tr>\n",
              "    <tr>\n",
              "      <th>9217</th>\n",
              "      <td>/content/drive/MyDrive/archive (3)/Curated X-R...</td>\n",
              "      <td>Normal</td>\n",
              "    </tr>\n",
              "  </tbody>\n",
              "</table>\n",
              "<p>9218 rows × 2 columns</p>\n",
              "</div>\n",
              "    <div class=\"colab-df-buttons\">\n",
              "\n",
              "  <div class=\"colab-df-container\">\n",
              "    <button class=\"colab-df-convert\" onclick=\"convertToInteractive('df-a5ef2733-053f-443b-9a99-2f894ba85c3f')\"\n",
              "            title=\"Convert this dataframe to an interactive table.\"\n",
              "            style=\"display:none;\">\n",
              "\n",
              "  <svg xmlns=\"http://www.w3.org/2000/svg\" height=\"24px\" viewBox=\"0 -960 960 960\">\n",
              "    <path d=\"M120-120v-720h720v720H120Zm60-500h600v-160H180v160Zm220 220h160v-160H400v160Zm0 220h160v-160H400v160ZM180-400h160v-160H180v160Zm440 0h160v-160H620v160ZM180-180h160v-160H180v160Zm440 0h160v-160H620v160Z\"/>\n",
              "  </svg>\n",
              "    </button>\n",
              "\n",
              "  <style>\n",
              "    .colab-df-container {\n",
              "      display:flex;\n",
              "      gap: 12px;\n",
              "    }\n",
              "\n",
              "    .colab-df-convert {\n",
              "      background-color: #E8F0FE;\n",
              "      border: none;\n",
              "      border-radius: 50%;\n",
              "      cursor: pointer;\n",
              "      display: none;\n",
              "      fill: #1967D2;\n",
              "      height: 32px;\n",
              "      padding: 0 0 0 0;\n",
              "      width: 32px;\n",
              "    }\n",
              "\n",
              "    .colab-df-convert:hover {\n",
              "      background-color: #E2EBFA;\n",
              "      box-shadow: 0px 1px 2px rgba(60, 64, 67, 0.3), 0px 1px 3px 1px rgba(60, 64, 67, 0.15);\n",
              "      fill: #174EA6;\n",
              "    }\n",
              "\n",
              "    .colab-df-buttons div {\n",
              "      margin-bottom: 4px;\n",
              "    }\n",
              "\n",
              "    [theme=dark] .colab-df-convert {\n",
              "      background-color: #3B4455;\n",
              "      fill: #D2E3FC;\n",
              "    }\n",
              "\n",
              "    [theme=dark] .colab-df-convert:hover {\n",
              "      background-color: #434B5C;\n",
              "      box-shadow: 0px 1px 3px 1px rgba(0, 0, 0, 0.15);\n",
              "      filter: drop-shadow(0px 1px 2px rgba(0, 0, 0, 0.3));\n",
              "      fill: #FFFFFF;\n",
              "    }\n",
              "  </style>\n",
              "\n",
              "    <script>\n",
              "      const buttonEl =\n",
              "        document.querySelector('#df-a5ef2733-053f-443b-9a99-2f894ba85c3f button.colab-df-convert');\n",
              "      buttonEl.style.display =\n",
              "        google.colab.kernel.accessAllowed ? 'block' : 'none';\n",
              "\n",
              "      async function convertToInteractive(key) {\n",
              "        const element = document.querySelector('#df-a5ef2733-053f-443b-9a99-2f894ba85c3f');\n",
              "        const dataTable =\n",
              "          await google.colab.kernel.invokeFunction('convertToInteractive',\n",
              "                                                    [key], {});\n",
              "        if (!dataTable) return;\n",
              "\n",
              "        const docLinkHtml = 'Like what you see? Visit the ' +\n",
              "          '<a target=\"_blank\" href=https://colab.research.google.com/notebooks/data_table.ipynb>data table notebook</a>'\n",
              "          + ' to learn more about interactive tables.';\n",
              "        element.innerHTML = '';\n",
              "        dataTable['output_type'] = 'display_data';\n",
              "        await google.colab.output.renderOutput(dataTable, element);\n",
              "        const docLink = document.createElement('div');\n",
              "        docLink.innerHTML = docLinkHtml;\n",
              "        element.appendChild(docLink);\n",
              "      }\n",
              "    </script>\n",
              "  </div>\n",
              "\n",
              "\n",
              "<div id=\"df-c59bf6a5-4907-44b7-9aaf-5abaa1a33276\">\n",
              "  <button class=\"colab-df-quickchart\" onclick=\"quickchart('df-c59bf6a5-4907-44b7-9aaf-5abaa1a33276')\"\n",
              "            title=\"Suggest charts.\"\n",
              "            style=\"display:none;\">\n",
              "\n",
              "<svg xmlns=\"http://www.w3.org/2000/svg\" height=\"24px\"viewBox=\"0 0 24 24\"\n",
              "     width=\"24px\">\n",
              "    <g>\n",
              "        <path d=\"M19 3H5c-1.1 0-2 .9-2 2v14c0 1.1.9 2 2 2h14c1.1 0 2-.9 2-2V5c0-1.1-.9-2-2-2zM9 17H7v-7h2v7zm4 0h-2V7h2v10zm4 0h-2v-4h2v4z\"/>\n",
              "    </g>\n",
              "</svg>\n",
              "  </button>\n",
              "\n",
              "<style>\n",
              "  .colab-df-quickchart {\n",
              "      --bg-color: #E8F0FE;\n",
              "      --fill-color: #1967D2;\n",
              "      --hover-bg-color: #E2EBFA;\n",
              "      --hover-fill-color: #174EA6;\n",
              "      --disabled-fill-color: #AAA;\n",
              "      --disabled-bg-color: #DDD;\n",
              "  }\n",
              "\n",
              "  [theme=dark] .colab-df-quickchart {\n",
              "      --bg-color: #3B4455;\n",
              "      --fill-color: #D2E3FC;\n",
              "      --hover-bg-color: #434B5C;\n",
              "      --hover-fill-color: #FFFFFF;\n",
              "      --disabled-bg-color: #3B4455;\n",
              "      --disabled-fill-color: #666;\n",
              "  }\n",
              "\n",
              "  .colab-df-quickchart {\n",
              "    background-color: var(--bg-color);\n",
              "    border: none;\n",
              "    border-radius: 50%;\n",
              "    cursor: pointer;\n",
              "    display: none;\n",
              "    fill: var(--fill-color);\n",
              "    height: 32px;\n",
              "    padding: 0;\n",
              "    width: 32px;\n",
              "  }\n",
              "\n",
              "  .colab-df-quickchart:hover {\n",
              "    background-color: var(--hover-bg-color);\n",
              "    box-shadow: 0 1px 2px rgba(60, 64, 67, 0.3), 0 1px 3px 1px rgba(60, 64, 67, 0.15);\n",
              "    fill: var(--button-hover-fill-color);\n",
              "  }\n",
              "\n",
              "  .colab-df-quickchart-complete:disabled,\n",
              "  .colab-df-quickchart-complete:disabled:hover {\n",
              "    background-color: var(--disabled-bg-color);\n",
              "    fill: var(--disabled-fill-color);\n",
              "    box-shadow: none;\n",
              "  }\n",
              "\n",
              "  .colab-df-spinner {\n",
              "    border: 2px solid var(--fill-color);\n",
              "    border-color: transparent;\n",
              "    border-bottom-color: var(--fill-color);\n",
              "    animation:\n",
              "      spin 1s steps(1) infinite;\n",
              "  }\n",
              "\n",
              "  @keyframes spin {\n",
              "    0% {\n",
              "      border-color: transparent;\n",
              "      border-bottom-color: var(--fill-color);\n",
              "      border-left-color: var(--fill-color);\n",
              "    }\n",
              "    20% {\n",
              "      border-color: transparent;\n",
              "      border-left-color: var(--fill-color);\n",
              "      border-top-color: var(--fill-color);\n",
              "    }\n",
              "    30% {\n",
              "      border-color: transparent;\n",
              "      border-left-color: var(--fill-color);\n",
              "      border-top-color: var(--fill-color);\n",
              "      border-right-color: var(--fill-color);\n",
              "    }\n",
              "    40% {\n",
              "      border-color: transparent;\n",
              "      border-right-color: var(--fill-color);\n",
              "      border-top-color: var(--fill-color);\n",
              "    }\n",
              "    60% {\n",
              "      border-color: transparent;\n",
              "      border-right-color: var(--fill-color);\n",
              "    }\n",
              "    80% {\n",
              "      border-color: transparent;\n",
              "      border-right-color: var(--fill-color);\n",
              "      border-bottom-color: var(--fill-color);\n",
              "    }\n",
              "    90% {\n",
              "      border-color: transparent;\n",
              "      border-bottom-color: var(--fill-color);\n",
              "    }\n",
              "  }\n",
              "</style>\n",
              "\n",
              "  <script>\n",
              "    async function quickchart(key) {\n",
              "      const quickchartButtonEl =\n",
              "        document.querySelector('#' + key + ' button');\n",
              "      quickchartButtonEl.disabled = true;  // To prevent multiple clicks.\n",
              "      quickchartButtonEl.classList.add('colab-df-spinner');\n",
              "      try {\n",
              "        const charts = await google.colab.kernel.invokeFunction(\n",
              "            'suggestCharts', [key], {});\n",
              "      } catch (error) {\n",
              "        console.error('Error during call to suggestCharts:', error);\n",
              "      }\n",
              "      quickchartButtonEl.classList.remove('colab-df-spinner');\n",
              "      quickchartButtonEl.classList.add('colab-df-quickchart-complete');\n",
              "    }\n",
              "    (() => {\n",
              "      let quickchartButtonEl =\n",
              "        document.querySelector('#df-c59bf6a5-4907-44b7-9aaf-5abaa1a33276 button');\n",
              "      quickchartButtonEl.style.display =\n",
              "        google.colab.kernel.accessAllowed ? 'block' : 'none';\n",
              "    })();\n",
              "  </script>\n",
              "</div>\n",
              "    </div>\n",
              "  </div>\n"
            ],
            "text/plain": [
              "                                               filename     class\n",
              "0     /content/drive/MyDrive/archive (3)/Curated X-R...  COVID-19\n",
              "1     /content/drive/MyDrive/archive (3)/Curated X-R...  COVID-19\n",
              "2     /content/drive/MyDrive/archive (3)/Curated X-R...  COVID-19\n",
              "3     /content/drive/MyDrive/archive (3)/Curated X-R...  COVID-19\n",
              "4     /content/drive/MyDrive/archive (3)/Curated X-R...  COVID-19\n",
              "...                                                 ...       ...\n",
              "9213  /content/drive/MyDrive/archive (3)/Curated X-R...    Normal\n",
              "9214  /content/drive/MyDrive/archive (3)/Curated X-R...    Normal\n",
              "9215  /content/drive/MyDrive/archive (3)/Curated X-R...    Normal\n",
              "9216  /content/drive/MyDrive/archive (3)/Curated X-R...    Normal\n",
              "9217  /content/drive/MyDrive/archive (3)/Curated X-R...    Normal\n",
              "\n",
              "[9218 rows x 2 columns]"
            ]
          },
          "execution_count": 11,
          "metadata": {},
          "output_type": "execute_result"
        }
      ],
      "source": [
        "data = pd.DataFrame()\n",
        "for el in range(0, len(filenames)):\n",
        "    target = filenames[el].split('/')[-2]\n",
        "    path = filenames[el]\n",
        "\n",
        "    data.loc[el, 'filename'] = path\n",
        "    data.loc[el, 'class'] = target\n",
        "\n",
        "print(data['class'].value_counts(dropna=False))\n",
        "data"
      ]
    },
    {
      "cell_type": "code",
      "execution_count": null,
      "metadata": {
        "colab": {
          "base_uri": "https://localhost:8080/",
          "height": 423
        },
        "id": "IIa5E_mp5R2o",
        "outputId": "27e55607-cec0-4fff-9bf8-47db00732ebf"
      },
      "outputs": [
        {
          "data": {
            "text/html": [
              "\n",
              "  <div id=\"df-ff33191c-d00b-4a2d-a2a5-c2b77a652e44\" class=\"colab-df-container\">\n",
              "    <div>\n",
              "<style scoped>\n",
              "    .dataframe tbody tr th:only-of-type {\n",
              "        vertical-align: middle;\n",
              "    }\n",
              "\n",
              "    .dataframe tbody tr th {\n",
              "        vertical-align: top;\n",
              "    }\n",
              "\n",
              "    .dataframe thead th {\n",
              "        text-align: right;\n",
              "    }\n",
              "</style>\n",
              "<table border=\"1\" class=\"dataframe\">\n",
              "  <thead>\n",
              "    <tr style=\"text-align: right;\">\n",
              "      <th></th>\n",
              "      <th>filename</th>\n",
              "      <th>class</th>\n",
              "    </tr>\n",
              "  </thead>\n",
              "  <tbody>\n",
              "    <tr>\n",
              "      <th>0</th>\n",
              "      <td>/content/drive/MyDrive/archive (3)/Curated X-R...</td>\n",
              "      <td>Pneumonia-Viral</td>\n",
              "    </tr>\n",
              "    <tr>\n",
              "      <th>1</th>\n",
              "      <td>/content/drive/MyDrive/archive (3)/Curated X-R...</td>\n",
              "      <td>Pneumonia-Bacterial</td>\n",
              "    </tr>\n",
              "    <tr>\n",
              "      <th>2</th>\n",
              "      <td>/content/drive/MyDrive/archive (3)/Curated X-R...</td>\n",
              "      <td>Normal</td>\n",
              "    </tr>\n",
              "    <tr>\n",
              "      <th>3</th>\n",
              "      <td>/content/drive/MyDrive/archive (3)/Curated X-R...</td>\n",
              "      <td>Pneumonia-Bacterial</td>\n",
              "    </tr>\n",
              "    <tr>\n",
              "      <th>4</th>\n",
              "      <td>/content/drive/MyDrive/archive (3)/Curated X-R...</td>\n",
              "      <td>Pneumonia-Bacterial</td>\n",
              "    </tr>\n",
              "    <tr>\n",
              "      <th>...</th>\n",
              "      <td>...</td>\n",
              "      <td>...</td>\n",
              "    </tr>\n",
              "    <tr>\n",
              "      <th>9213</th>\n",
              "      <td>/content/drive/MyDrive/archive (3)/Curated X-R...</td>\n",
              "      <td>Pneumonia-Viral</td>\n",
              "    </tr>\n",
              "    <tr>\n",
              "      <th>9214</th>\n",
              "      <td>/content/drive/MyDrive/archive (3)/Curated X-R...</td>\n",
              "      <td>Pneumonia-Viral</td>\n",
              "    </tr>\n",
              "    <tr>\n",
              "      <th>9215</th>\n",
              "      <td>/content/drive/MyDrive/archive (3)/Curated X-R...</td>\n",
              "      <td>Pneumonia-Viral</td>\n",
              "    </tr>\n",
              "    <tr>\n",
              "      <th>9216</th>\n",
              "      <td>/content/drive/MyDrive/archive (3)/Curated X-R...</td>\n",
              "      <td>COVID-19</td>\n",
              "    </tr>\n",
              "    <tr>\n",
              "      <th>9217</th>\n",
              "      <td>/content/drive/MyDrive/archive (3)/Curated X-R...</td>\n",
              "      <td>Normal</td>\n",
              "    </tr>\n",
              "  </tbody>\n",
              "</table>\n",
              "<p>9218 rows × 2 columns</p>\n",
              "</div>\n",
              "    <div class=\"colab-df-buttons\">\n",
              "\n",
              "  <div class=\"colab-df-container\">\n",
              "    <button class=\"colab-df-convert\" onclick=\"convertToInteractive('df-ff33191c-d00b-4a2d-a2a5-c2b77a652e44')\"\n",
              "            title=\"Convert this dataframe to an interactive table.\"\n",
              "            style=\"display:none;\">\n",
              "\n",
              "  <svg xmlns=\"http://www.w3.org/2000/svg\" height=\"24px\" viewBox=\"0 -960 960 960\">\n",
              "    <path d=\"M120-120v-720h720v720H120Zm60-500h600v-160H180v160Zm220 220h160v-160H400v160Zm0 220h160v-160H400v160ZM180-400h160v-160H180v160Zm440 0h160v-160H620v160ZM180-180h160v-160H180v160Zm440 0h160v-160H620v160Z\"/>\n",
              "  </svg>\n",
              "    </button>\n",
              "\n",
              "  <style>\n",
              "    .colab-df-container {\n",
              "      display:flex;\n",
              "      gap: 12px;\n",
              "    }\n",
              "\n",
              "    .colab-df-convert {\n",
              "      background-color: #E8F0FE;\n",
              "      border: none;\n",
              "      border-radius: 50%;\n",
              "      cursor: pointer;\n",
              "      display: none;\n",
              "      fill: #1967D2;\n",
              "      height: 32px;\n",
              "      padding: 0 0 0 0;\n",
              "      width: 32px;\n",
              "    }\n",
              "\n",
              "    .colab-df-convert:hover {\n",
              "      background-color: #E2EBFA;\n",
              "      box-shadow: 0px 1px 2px rgba(60, 64, 67, 0.3), 0px 1px 3px 1px rgba(60, 64, 67, 0.15);\n",
              "      fill: #174EA6;\n",
              "    }\n",
              "\n",
              "    .colab-df-buttons div {\n",
              "      margin-bottom: 4px;\n",
              "    }\n",
              "\n",
              "    [theme=dark] .colab-df-convert {\n",
              "      background-color: #3B4455;\n",
              "      fill: #D2E3FC;\n",
              "    }\n",
              "\n",
              "    [theme=dark] .colab-df-convert:hover {\n",
              "      background-color: #434B5C;\n",
              "      box-shadow: 0px 1px 3px 1px rgba(0, 0, 0, 0.15);\n",
              "      filter: drop-shadow(0px 1px 2px rgba(0, 0, 0, 0.3));\n",
              "      fill: #FFFFFF;\n",
              "    }\n",
              "  </style>\n",
              "\n",
              "    <script>\n",
              "      const buttonEl =\n",
              "        document.querySelector('#df-ff33191c-d00b-4a2d-a2a5-c2b77a652e44 button.colab-df-convert');\n",
              "      buttonEl.style.display =\n",
              "        google.colab.kernel.accessAllowed ? 'block' : 'none';\n",
              "\n",
              "      async function convertToInteractive(key) {\n",
              "        const element = document.querySelector('#df-ff33191c-d00b-4a2d-a2a5-c2b77a652e44');\n",
              "        const dataTable =\n",
              "          await google.colab.kernel.invokeFunction('convertToInteractive',\n",
              "                                                    [key], {});\n",
              "        if (!dataTable) return;\n",
              "\n",
              "        const docLinkHtml = 'Like what you see? Visit the ' +\n",
              "          '<a target=\"_blank\" href=https://colab.research.google.com/notebooks/data_table.ipynb>data table notebook</a>'\n",
              "          + ' to learn more about interactive tables.';\n",
              "        element.innerHTML = '';\n",
              "        dataTable['output_type'] = 'display_data';\n",
              "        await google.colab.output.renderOutput(dataTable, element);\n",
              "        const docLink = document.createElement('div');\n",
              "        docLink.innerHTML = docLinkHtml;\n",
              "        element.appendChild(docLink);\n",
              "      }\n",
              "    </script>\n",
              "  </div>\n",
              "\n",
              "\n",
              "<div id=\"df-980993c9-89cb-40d0-9f8d-8b7542fb977e\">\n",
              "  <button class=\"colab-df-quickchart\" onclick=\"quickchart('df-980993c9-89cb-40d0-9f8d-8b7542fb977e')\"\n",
              "            title=\"Suggest charts.\"\n",
              "            style=\"display:none;\">\n",
              "\n",
              "<svg xmlns=\"http://www.w3.org/2000/svg\" height=\"24px\"viewBox=\"0 0 24 24\"\n",
              "     width=\"24px\">\n",
              "    <g>\n",
              "        <path d=\"M19 3H5c-1.1 0-2 .9-2 2v14c0 1.1.9 2 2 2h14c1.1 0 2-.9 2-2V5c0-1.1-.9-2-2-2zM9 17H7v-7h2v7zm4 0h-2V7h2v10zm4 0h-2v-4h2v4z\"/>\n",
              "    </g>\n",
              "</svg>\n",
              "  </button>\n",
              "\n",
              "<style>\n",
              "  .colab-df-quickchart {\n",
              "      --bg-color: #E8F0FE;\n",
              "      --fill-color: #1967D2;\n",
              "      --hover-bg-color: #E2EBFA;\n",
              "      --hover-fill-color: #174EA6;\n",
              "      --disabled-fill-color: #AAA;\n",
              "      --disabled-bg-color: #DDD;\n",
              "  }\n",
              "\n",
              "  [theme=dark] .colab-df-quickchart {\n",
              "      --bg-color: #3B4455;\n",
              "      --fill-color: #D2E3FC;\n",
              "      --hover-bg-color: #434B5C;\n",
              "      --hover-fill-color: #FFFFFF;\n",
              "      --disabled-bg-color: #3B4455;\n",
              "      --disabled-fill-color: #666;\n",
              "  }\n",
              "\n",
              "  .colab-df-quickchart {\n",
              "    background-color: var(--bg-color);\n",
              "    border: none;\n",
              "    border-radius: 50%;\n",
              "    cursor: pointer;\n",
              "    display: none;\n",
              "    fill: var(--fill-color);\n",
              "    height: 32px;\n",
              "    padding: 0;\n",
              "    width: 32px;\n",
              "  }\n",
              "\n",
              "  .colab-df-quickchart:hover {\n",
              "    background-color: var(--hover-bg-color);\n",
              "    box-shadow: 0 1px 2px rgba(60, 64, 67, 0.3), 0 1px 3px 1px rgba(60, 64, 67, 0.15);\n",
              "    fill: var(--button-hover-fill-color);\n",
              "  }\n",
              "\n",
              "  .colab-df-quickchart-complete:disabled,\n",
              "  .colab-df-quickchart-complete:disabled:hover {\n",
              "    background-color: var(--disabled-bg-color);\n",
              "    fill: var(--disabled-fill-color);\n",
              "    box-shadow: none;\n",
              "  }\n",
              "\n",
              "  .colab-df-spinner {\n",
              "    border: 2px solid var(--fill-color);\n",
              "    border-color: transparent;\n",
              "    border-bottom-color: var(--fill-color);\n",
              "    animation:\n",
              "      spin 1s steps(1) infinite;\n",
              "  }\n",
              "\n",
              "  @keyframes spin {\n",
              "    0% {\n",
              "      border-color: transparent;\n",
              "      border-bottom-color: var(--fill-color);\n",
              "      border-left-color: var(--fill-color);\n",
              "    }\n",
              "    20% {\n",
              "      border-color: transparent;\n",
              "      border-left-color: var(--fill-color);\n",
              "      border-top-color: var(--fill-color);\n",
              "    }\n",
              "    30% {\n",
              "      border-color: transparent;\n",
              "      border-left-color: var(--fill-color);\n",
              "      border-top-color: var(--fill-color);\n",
              "      border-right-color: var(--fill-color);\n",
              "    }\n",
              "    40% {\n",
              "      border-color: transparent;\n",
              "      border-right-color: var(--fill-color);\n",
              "      border-top-color: var(--fill-color);\n",
              "    }\n",
              "    60% {\n",
              "      border-color: transparent;\n",
              "      border-right-color: var(--fill-color);\n",
              "    }\n",
              "    80% {\n",
              "      border-color: transparent;\n",
              "      border-right-color: var(--fill-color);\n",
              "      border-bottom-color: var(--fill-color);\n",
              "    }\n",
              "    90% {\n",
              "      border-color: transparent;\n",
              "      border-bottom-color: var(--fill-color);\n",
              "    }\n",
              "  }\n",
              "</style>\n",
              "\n",
              "  <script>\n",
              "    async function quickchart(key) {\n",
              "      const quickchartButtonEl =\n",
              "        document.querySelector('#' + key + ' button');\n",
              "      quickchartButtonEl.disabled = true;  // To prevent multiple clicks.\n",
              "      quickchartButtonEl.classList.add('colab-df-spinner');\n",
              "      try {\n",
              "        const charts = await google.colab.kernel.invokeFunction(\n",
              "            'suggestCharts', [key], {});\n",
              "      } catch (error) {\n",
              "        console.error('Error during call to suggestCharts:', error);\n",
              "      }\n",
              "      quickchartButtonEl.classList.remove('colab-df-spinner');\n",
              "      quickchartButtonEl.classList.add('colab-df-quickchart-complete');\n",
              "    }\n",
              "    (() => {\n",
              "      let quickchartButtonEl =\n",
              "        document.querySelector('#df-980993c9-89cb-40d0-9f8d-8b7542fb977e button');\n",
              "      quickchartButtonEl.style.display =\n",
              "        google.colab.kernel.accessAllowed ? 'block' : 'none';\n",
              "    })();\n",
              "  </script>\n",
              "</div>\n",
              "    </div>\n",
              "  </div>\n"
            ],
            "text/plain": [
              "                                               filename                class\n",
              "0     /content/drive/MyDrive/archive (3)/Curated X-R...      Pneumonia-Viral\n",
              "1     /content/drive/MyDrive/archive (3)/Curated X-R...  Pneumonia-Bacterial\n",
              "2     /content/drive/MyDrive/archive (3)/Curated X-R...               Normal\n",
              "3     /content/drive/MyDrive/archive (3)/Curated X-R...  Pneumonia-Bacterial\n",
              "4     /content/drive/MyDrive/archive (3)/Curated X-R...  Pneumonia-Bacterial\n",
              "...                                                 ...                  ...\n",
              "9213  /content/drive/MyDrive/archive (3)/Curated X-R...      Pneumonia-Viral\n",
              "9214  /content/drive/MyDrive/archive (3)/Curated X-R...      Pneumonia-Viral\n",
              "9215  /content/drive/MyDrive/archive (3)/Curated X-R...      Pneumonia-Viral\n",
              "9216  /content/drive/MyDrive/archive (3)/Curated X-R...             COVID-19\n",
              "9217  /content/drive/MyDrive/archive (3)/Curated X-R...               Normal\n",
              "\n",
              "[9218 rows x 2 columns]"
            ]
          },
          "execution_count": 12,
          "metadata": {},
          "output_type": "execute_result"
        }
      ],
      "source": [
        "data = shuffle(data, random_state=42)\n",
        "data.reset_index(drop=True, inplace=True)\n",
        "data"
      ]
    },
    {
      "cell_type": "markdown",
      "metadata": {
        "id": "oT7LgrBMCH2n"
      },
      "source": [
        "**Model for Normal**"
      ]
    },
    {
      "cell_type": "code",
      "execution_count": null,
      "metadata": {
        "colab": {
          "base_uri": "https://localhost:8080/",
          "height": 423
        },
        "id": "kPwZclLjA2g8",
        "outputId": "93a9c90c-0417-4ae3-91f3-28af056cdae5"
      },
      "outputs": [
        {
          "data": {
            "text/html": [
              "\n",
              "  <div id=\"df-bfaedd60-d216-4056-b1d1-cddc0c04558f\" class=\"colab-df-container\">\n",
              "    <div>\n",
              "<style scoped>\n",
              "    .dataframe tbody tr th:only-of-type {\n",
              "        vertical-align: middle;\n",
              "    }\n",
              "\n",
              "    .dataframe tbody tr th {\n",
              "        vertical-align: top;\n",
              "    }\n",
              "\n",
              "    .dataframe thead th {\n",
              "        text-align: right;\n",
              "    }\n",
              "</style>\n",
              "<table border=\"1\" class=\"dataframe\">\n",
              "  <thead>\n",
              "    <tr style=\"text-align: right;\">\n",
              "      <th></th>\n",
              "      <th>filename</th>\n",
              "      <th>class</th>\n",
              "    </tr>\n",
              "  </thead>\n",
              "  <tbody>\n",
              "    <tr>\n",
              "      <th>0</th>\n",
              "      <td>/content/drive/MyDrive/archive (3)/Curated X-R...</td>\n",
              "      <td>0</td>\n",
              "    </tr>\n",
              "    <tr>\n",
              "      <th>1</th>\n",
              "      <td>/content/drive/MyDrive/archive (3)/Curated X-R...</td>\n",
              "      <td>1</td>\n",
              "    </tr>\n",
              "    <tr>\n",
              "      <th>2</th>\n",
              "      <td>/content/drive/MyDrive/archive (3)/Curated X-R...</td>\n",
              "      <td>0</td>\n",
              "    </tr>\n",
              "    <tr>\n",
              "      <th>3</th>\n",
              "      <td>/content/drive/MyDrive/archive (3)/Curated X-R...</td>\n",
              "      <td>1</td>\n",
              "    </tr>\n",
              "    <tr>\n",
              "      <th>4</th>\n",
              "      <td>/content/drive/MyDrive/archive (3)/Curated X-R...</td>\n",
              "      <td>1</td>\n",
              "    </tr>\n",
              "    <tr>\n",
              "      <th>...</th>\n",
              "      <td>...</td>\n",
              "      <td>...</td>\n",
              "    </tr>\n",
              "    <tr>\n",
              "      <th>9213</th>\n",
              "      <td>/content/drive/MyDrive/archive (3)/Curated X-R...</td>\n",
              "      <td>0</td>\n",
              "    </tr>\n",
              "    <tr>\n",
              "      <th>9214</th>\n",
              "      <td>/content/drive/MyDrive/archive (3)/Curated X-R...</td>\n",
              "      <td>0</td>\n",
              "    </tr>\n",
              "    <tr>\n",
              "      <th>9215</th>\n",
              "      <td>/content/drive/MyDrive/archive (3)/Curated X-R...</td>\n",
              "      <td>0</td>\n",
              "    </tr>\n",
              "    <tr>\n",
              "      <th>9216</th>\n",
              "      <td>/content/drive/MyDrive/archive (3)/Curated X-R...</td>\n",
              "      <td>0</td>\n",
              "    </tr>\n",
              "    <tr>\n",
              "      <th>9217</th>\n",
              "      <td>/content/drive/MyDrive/archive (3)/Curated X-R...</td>\n",
              "      <td>0</td>\n",
              "    </tr>\n",
              "  </tbody>\n",
              "</table>\n",
              "<p>9218 rows × 2 columns</p>\n",
              "</div>\n",
              "    <div class=\"colab-df-buttons\">\n",
              "\n",
              "  <div class=\"colab-df-container\">\n",
              "    <button class=\"colab-df-convert\" onclick=\"convertToInteractive('df-bfaedd60-d216-4056-b1d1-cddc0c04558f')\"\n",
              "            title=\"Convert this dataframe to an interactive table.\"\n",
              "            style=\"display:none;\">\n",
              "\n",
              "  <svg xmlns=\"http://www.w3.org/2000/svg\" height=\"24px\" viewBox=\"0 -960 960 960\">\n",
              "    <path d=\"M120-120v-720h720v720H120Zm60-500h600v-160H180v160Zm220 220h160v-160H400v160Zm0 220h160v-160H400v160ZM180-400h160v-160H180v160Zm440 0h160v-160H620v160ZM180-180h160v-160H180v160Zm440 0h160v-160H620v160Z\"/>\n",
              "  </svg>\n",
              "    </button>\n",
              "\n",
              "  <style>\n",
              "    .colab-df-container {\n",
              "      display:flex;\n",
              "      gap: 12px;\n",
              "    }\n",
              "\n",
              "    .colab-df-convert {\n",
              "      background-color: #E8F0FE;\n",
              "      border: none;\n",
              "      border-radius: 50%;\n",
              "      cursor: pointer;\n",
              "      display: none;\n",
              "      fill: #1967D2;\n",
              "      height: 32px;\n",
              "      padding: 0 0 0 0;\n",
              "      width: 32px;\n",
              "    }\n",
              "\n",
              "    .colab-df-convert:hover {\n",
              "      background-color: #E2EBFA;\n",
              "      box-shadow: 0px 1px 2px rgba(60, 64, 67, 0.3), 0px 1px 3px 1px rgba(60, 64, 67, 0.15);\n",
              "      fill: #174EA6;\n",
              "    }\n",
              "\n",
              "    .colab-df-buttons div {\n",
              "      margin-bottom: 4px;\n",
              "    }\n",
              "\n",
              "    [theme=dark] .colab-df-convert {\n",
              "      background-color: #3B4455;\n",
              "      fill: #D2E3FC;\n",
              "    }\n",
              "\n",
              "    [theme=dark] .colab-df-convert:hover {\n",
              "      background-color: #434B5C;\n",
              "      box-shadow: 0px 1px 3px 1px rgba(0, 0, 0, 0.15);\n",
              "      filter: drop-shadow(0px 1px 2px rgba(0, 0, 0, 0.3));\n",
              "      fill: #FFFFFF;\n",
              "    }\n",
              "  </style>\n",
              "\n",
              "    <script>\n",
              "      const buttonEl =\n",
              "        document.querySelector('#df-bfaedd60-d216-4056-b1d1-cddc0c04558f button.colab-df-convert');\n",
              "      buttonEl.style.display =\n",
              "        google.colab.kernel.accessAllowed ? 'block' : 'none';\n",
              "\n",
              "      async function convertToInteractive(key) {\n",
              "        const element = document.querySelector('#df-bfaedd60-d216-4056-b1d1-cddc0c04558f');\n",
              "        const dataTable =\n",
              "          await google.colab.kernel.invokeFunction('convertToInteractive',\n",
              "                                                    [key], {});\n",
              "        if (!dataTable) return;\n",
              "\n",
              "        const docLinkHtml = 'Like what you see? Visit the ' +\n",
              "          '<a target=\"_blank\" href=https://colab.research.google.com/notebooks/data_table.ipynb>data table notebook</a>'\n",
              "          + ' to learn more about interactive tables.';\n",
              "        element.innerHTML = '';\n",
              "        dataTable['output_type'] = 'display_data';\n",
              "        await google.colab.output.renderOutput(dataTable, element);\n",
              "        const docLink = document.createElement('div');\n",
              "        docLink.innerHTML = docLinkHtml;\n",
              "        element.appendChild(docLink);\n",
              "      }\n",
              "    </script>\n",
              "  </div>\n",
              "\n",
              "\n",
              "<div id=\"df-ba347213-e09c-47f9-99fc-3a456df4bc84\">\n",
              "  <button class=\"colab-df-quickchart\" onclick=\"quickchart('df-ba347213-e09c-47f9-99fc-3a456df4bc84')\"\n",
              "            title=\"Suggest charts.\"\n",
              "            style=\"display:none;\">\n",
              "\n",
              "<svg xmlns=\"http://www.w3.org/2000/svg\" height=\"24px\"viewBox=\"0 0 24 24\"\n",
              "     width=\"24px\">\n",
              "    <g>\n",
              "        <path d=\"M19 3H5c-1.1 0-2 .9-2 2v14c0 1.1.9 2 2 2h14c1.1 0 2-.9 2-2V5c0-1.1-.9-2-2-2zM9 17H7v-7h2v7zm4 0h-2V7h2v10zm4 0h-2v-4h2v4z\"/>\n",
              "    </g>\n",
              "</svg>\n",
              "  </button>\n",
              "\n",
              "<style>\n",
              "  .colab-df-quickchart {\n",
              "      --bg-color: #E8F0FE;\n",
              "      --fill-color: #1967D2;\n",
              "      --hover-bg-color: #E2EBFA;\n",
              "      --hover-fill-color: #174EA6;\n",
              "      --disabled-fill-color: #AAA;\n",
              "      --disabled-bg-color: #DDD;\n",
              "  }\n",
              "\n",
              "  [theme=dark] .colab-df-quickchart {\n",
              "      --bg-color: #3B4455;\n",
              "      --fill-color: #D2E3FC;\n",
              "      --hover-bg-color: #434B5C;\n",
              "      --hover-fill-color: #FFFFFF;\n",
              "      --disabled-bg-color: #3B4455;\n",
              "      --disabled-fill-color: #666;\n",
              "  }\n",
              "\n",
              "  .colab-df-quickchart {\n",
              "    background-color: var(--bg-color);\n",
              "    border: none;\n",
              "    border-radius: 50%;\n",
              "    cursor: pointer;\n",
              "    display: none;\n",
              "    fill: var(--fill-color);\n",
              "    height: 32px;\n",
              "    padding: 0;\n",
              "    width: 32px;\n",
              "  }\n",
              "\n",
              "  .colab-df-quickchart:hover {\n",
              "    background-color: var(--hover-bg-color);\n",
              "    box-shadow: 0 1px 2px rgba(60, 64, 67, 0.3), 0 1px 3px 1px rgba(60, 64, 67, 0.15);\n",
              "    fill: var(--button-hover-fill-color);\n",
              "  }\n",
              "\n",
              "  .colab-df-quickchart-complete:disabled,\n",
              "  .colab-df-quickchart-complete:disabled:hover {\n",
              "    background-color: var(--disabled-bg-color);\n",
              "    fill: var(--disabled-fill-color);\n",
              "    box-shadow: none;\n",
              "  }\n",
              "\n",
              "  .colab-df-spinner {\n",
              "    border: 2px solid var(--fill-color);\n",
              "    border-color: transparent;\n",
              "    border-bottom-color: var(--fill-color);\n",
              "    animation:\n",
              "      spin 1s steps(1) infinite;\n",
              "  }\n",
              "\n",
              "  @keyframes spin {\n",
              "    0% {\n",
              "      border-color: transparent;\n",
              "      border-bottom-color: var(--fill-color);\n",
              "      border-left-color: var(--fill-color);\n",
              "    }\n",
              "    20% {\n",
              "      border-color: transparent;\n",
              "      border-left-color: var(--fill-color);\n",
              "      border-top-color: var(--fill-color);\n",
              "    }\n",
              "    30% {\n",
              "      border-color: transparent;\n",
              "      border-left-color: var(--fill-color);\n",
              "      border-top-color: var(--fill-color);\n",
              "      border-right-color: var(--fill-color);\n",
              "    }\n",
              "    40% {\n",
              "      border-color: transparent;\n",
              "      border-right-color: var(--fill-color);\n",
              "      border-top-color: var(--fill-color);\n",
              "    }\n",
              "    60% {\n",
              "      border-color: transparent;\n",
              "      border-right-color: var(--fill-color);\n",
              "    }\n",
              "    80% {\n",
              "      border-color: transparent;\n",
              "      border-right-color: var(--fill-color);\n",
              "      border-bottom-color: var(--fill-color);\n",
              "    }\n",
              "    90% {\n",
              "      border-color: transparent;\n",
              "      border-bottom-color: var(--fill-color);\n",
              "    }\n",
              "  }\n",
              "</style>\n",
              "\n",
              "  <script>\n",
              "    async function quickchart(key) {\n",
              "      const quickchartButtonEl =\n",
              "        document.querySelector('#' + key + ' button');\n",
              "      quickchartButtonEl.disabled = true;  // To prevent multiple clicks.\n",
              "      quickchartButtonEl.classList.add('colab-df-spinner');\n",
              "      try {\n",
              "        const charts = await google.colab.kernel.invokeFunction(\n",
              "            'suggestCharts', [key], {});\n",
              "      } catch (error) {\n",
              "        console.error('Error during call to suggestCharts:', error);\n",
              "      }\n",
              "      quickchartButtonEl.classList.remove('colab-df-spinner');\n",
              "      quickchartButtonEl.classList.add('colab-df-quickchart-complete');\n",
              "    }\n",
              "    (() => {\n",
              "      let quickchartButtonEl =\n",
              "        document.querySelector('#df-ba347213-e09c-47f9-99fc-3a456df4bc84 button');\n",
              "      quickchartButtonEl.style.display =\n",
              "        google.colab.kernel.accessAllowed ? 'block' : 'none';\n",
              "    })();\n",
              "  </script>\n",
              "</div>\n",
              "    </div>\n",
              "  </div>\n"
            ],
            "text/plain": [
              "                                               filename class\n",
              "0     /content/drive/MyDrive/archive (3)/Curated X-R...     0\n",
              "1     /content/drive/MyDrive/archive (3)/Curated X-R...     1\n",
              "2     /content/drive/MyDrive/archive (3)/Curated X-R...     0\n",
              "3     /content/drive/MyDrive/archive (3)/Curated X-R...     1\n",
              "4     /content/drive/MyDrive/archive (3)/Curated X-R...     1\n",
              "...                                                 ...   ...\n",
              "9213  /content/drive/MyDrive/archive (3)/Curated X-R...     0\n",
              "9214  /content/drive/MyDrive/archive (3)/Curated X-R...     0\n",
              "9215  /content/drive/MyDrive/archive (3)/Curated X-R...     0\n",
              "9216  /content/drive/MyDrive/archive (3)/Curated X-R...     0\n",
              "9217  /content/drive/MyDrive/archive (3)/Curated X-R...     0\n",
              "\n",
              "[9218 rows x 2 columns]"
            ]
          },
          "execution_count": 13,
          "metadata": {},
          "output_type": "execute_result"
        }
      ],
      "source": [
        "change = {\n",
        "    'Normal': '0',\n",
        "    'Pneumonia-Bacterial': '1',\n",
        "    'Pneumonia-Viral': '0',\n",
        "    'COVID-19': '0',\n",
        "}\n",
        "\n",
        "data['class'] = data['class'].map(change)\n",
        "data"
      ]
    },
    {
      "cell_type": "code",
      "execution_count": null,
      "metadata": {
        "colab": {
          "base_uri": "https://localhost:8080/"
        },
        "id": "bD7qUW5zBP5Z",
        "outputId": "2788ce8f-d004-4d56-b225-fc38c8ec9378"
      },
      "outputs": [
        {
          "name": "stdout",
          "output_type": "stream",
          "text": [
            "(9218, 2)\n",
            "(9218, 2)\n"
          ]
        }
      ],
      "source": [
        "indexes = []\n",
        "\n",
        "def func(x):\n",
        "  if x[-4:] != '.jpg':\n",
        "    idx = data[data['filename'] == x].index\n",
        "    indexes.append(idx[0])\n",
        "    print(idx[0], x)\n",
        "  return x\n",
        "\n",
        "data['filename'].map(func)\n",
        "\n",
        "print(data.shape)\n",
        "data.drop(index=indexes, axis=0, inplace=True)\n",
        "data.reset_index(drop=True, inplace=True)\n",
        "print(data.shape)"
      ]
    },
    {
      "cell_type": "markdown",
      "metadata": {
        "id": "h4hWxzfeCzEr"
      },
      "source": [
        "Image shape"
      ]
    },
    {
      "cell_type": "code",
      "execution_count": null,
      "metadata": {
        "colab": {
          "base_uri": "https://localhost:8080/"
        },
        "id": "qpxSBmQ_CFB-",
        "outputId": "f1fe65da-75c2-45f1-8672-9e5e392ad3aa"
      },
      "outputs": [
        {
          "name": "stdout",
          "output_type": "stream",
          "text": [
            "(300, 400, 3)\n",
            "(1024, 1024, 3)\n",
            "(300, 400, 3)\n",
            "(1024, 1024, 3)\n",
            "(3308, 3670, 3)\n",
            "(792, 1272, 3)\n",
            "(172, 428, 3)\n",
            "(300, 400, 3)\n",
            "(1864, 2096, 3)\n",
            "(708, 684, 3)\n",
            "(784, 1360, 3)\n",
            "(1072, 1624, 3)\n",
            "(612, 536, 3)\n",
            "(2175, 1974, 3)\n",
            "(628, 682, 3)\n",
            "(300, 400, 3)\n",
            "(529, 653, 3)\n",
            "(1024, 1024, 3)\n",
            "(300, 400, 3)\n",
            "(1024, 1024, 3)\n"
          ]
        }
      ],
      "source": [
        "for el in range(100, 120):\n",
        "  path = data.loc[el, 'filename']\n",
        "  img = cv2.imread(path)\n",
        "  print(img.shape)"
      ]
    },
    {
      "cell_type": "markdown",
      "metadata": {
        "id": "uviYDQ16DJdG"
      },
      "source": [
        "Split data into train and validation"
      ]
    },
    {
      "cell_type": "code",
      "execution_count": null,
      "metadata": {
        "colab": {
          "base_uri": "https://localhost:8080/"
        },
        "id": "8VudcoPVC3BK",
        "outputId": "63b37cb6-ee72-40e0-98d3-e003c295b22b"
      },
      "outputs": [
        {
          "name": "stdout",
          "output_type": "stream",
          "text": [
            "0    5586\n",
            "1    2710\n",
            "Name: class, dtype: int64\n",
            "0    621\n",
            "1    301\n",
            "Name: class, dtype: int64\n"
          ]
        }
      ],
      "source": [
        "train_data, val_data = train_test_split(data, test_size=0.1, random_state=42, stratify=data['class'])\n",
        "print(train_data['class'].value_counts(dropna=False))\n",
        "print(val_data['class'].value_counts(dropna=False))"
      ]
    },
    {
      "cell_type": "markdown",
      "metadata": {
        "id": "oRF_jHq2Dz_w"
      },
      "source": [
        "Split train_data, test_data"
      ]
    },
    {
      "cell_type": "code",
      "execution_count": null,
      "metadata": {
        "colab": {
          "base_uri": "https://localhost:8080/"
        },
        "id": "hFp5CQMbDmRG",
        "outputId": "97f4aca5-b3af-4a5e-a0bd-29468fcaa083"
      },
      "outputs": [
        {
          "name": "stdout",
          "output_type": "stream",
          "text": [
            "0    5027\n",
            "1    2439\n",
            "Name: class, dtype: int64\n",
            "0    559\n",
            "1    271\n",
            "Name: class, dtype: int64\n"
          ]
        }
      ],
      "source": [
        "train_data, test_data = train_test_split(train_data, test_size=0.1, random_state=42, stratify=train_data['class'])\n",
        "print(train_data['class'].value_counts(dropna=False))\n",
        "print(test_data['class'].value_counts(dropna=False))"
      ]
    },
    {
      "cell_type": "markdown",
      "metadata": {
        "id": "Hwvc-6Ehg3Pm"
      },
      "source": [
        "Define ImageDataGenerator and Augmentation (for train)"
      ]
    },
    {
      "cell_type": "code",
      "execution_count": null,
      "metadata": {
        "colab": {
          "base_uri": "https://localhost:8080/"
        },
        "id": "md3nrKEeHNjx",
        "outputId": "ccc84b01-6ea7-4403-8b1d-c1ef737c0e57"
      },
      "outputs": [
        {
          "name": "stdout",
          "output_type": "stream",
          "text": [
            "Found 7466 validated image filenames belonging to 2 classes.\n",
            "Found 922 validated image filenames belonging to 2 classes.\n",
            "Found 830 validated image filenames belonging to 2 classes.\n"
          ]
        }
      ],
      "source": [
        "datagen = ImageDataGenerator(\n",
        "    rescale=1./255,\n",
        "    zoom_range=0.1,\n",
        "    brightness_range=[0.95, 1.0],\n",
        "    height_shift_range=0.01,\n",
        "    width_shift_range=0.01,\n",
        "    #rotation_range=10,\n",
        ")\n",
        "\n",
        "test_datagen = ImageDataGenerator(rescale=1./255)\n",
        "\n",
        "train_gen = datagen.flow_from_dataframe(\n",
        "    train_data,\n",
        "    x_col=\"filename\",\n",
        "    y_col=\"class\",\n",
        "    target_size=(IM_SIZE_W, IM_SIZE_H),\n",
        "    color_mode='grayscale',\n",
        "    batch_size=BATCH_SIZE,\n",
        "    class_mode='categorical',\n",
        "    shuffle=True,\n",
        "    num_parallel_calls=AUTOTUNE\n",
        ")\n",
        "\n",
        "val_gen = test_datagen.flow_from_dataframe(\n",
        "    val_data,\n",
        "    x_col=\"filename\",\n",
        "    y_col=\"class\",\n",
        "    target_size=(IM_SIZE_W, IM_SIZE_H),\n",
        "    color_mode='grayscale',\n",
        "    batch_size=BATCH_SIZE,\n",
        "    class_mode='categorical',\n",
        "    shuffle=False,\n",
        "    num_parallel_calls=AUTOTUNE\n",
        ")\n",
        "\n",
        "test_gen = test_datagen.flow_from_dataframe(\n",
        "    test_data,\n",
        "    x_col=\"filename\",\n",
        "    y_col=\"class\",\n",
        "    target_size=(IM_SIZE_W, IM_SIZE_H),\n",
        "    color_mode='grayscale',\n",
        "    batch_size=BATCH_SIZE,\n",
        "    class_mode='categorical',\n",
        "    shuffle=False,\n",
        "    num_parralel_calls=AUTOTUNE\n",
        ")"
      ]
    },
    {
      "cell_type": "code",
      "execution_count": null,
      "metadata": {
        "colab": {
          "base_uri": "https://localhost:8080/",
          "height": 334
        },
        "id": "en_Q6_uhgtTk",
        "outputId": "ec81ae44-ef76-4a13-c81c-ffa82ac17a8d"
      },
      "outputs": [
        {
          "name": "stdout",
          "output_type": "stream",
          "text": [
            "[0. 1.]\n"
          ]
        },
        {
          "data": {
            "image/png": "[encoded data removed]",
            "text/plain": [
              "<PIL.Image.Image image mode=L size=400x300>"
            ]
          },
          "metadata": {},
          "output_type": "display_data"
        }
      ],
      "source": [
        "from IPython.display import display\n",
        "\n",
        "# Отримання одного зображення та його мітки з генератора\n",
        "image, label = train_gen.next()\n",
        "image = image[0]  # Обираємо перше зображення\n",
        "print(label[0])\n",
        "\n",
        "# Перетворення типу даних до 'uint8'\n",
        "image_uint8 = (image * 255).astype('uint8')\n",
        "\n",
        "# Створення об'єкту Image з NumPy масиву\n",
        "image_pil = PIL.Image.fromarray(image_uint8.squeeze())  # Видаляємо останнє вимірювання (1, 1, 1)\n",
        "\n",
        "# Відображення зображення\n",
        "display(image_pil)"
      ]
    },
    {
      "cell_type": "markdown",
      "metadata": {
        "id": "EFmGMGNK1P5N"
      },
      "source": [
        "Define CNN model"
      ]
    },
    {
      "cell_type": "code",
      "execution_count": null,
      "metadata": {
        "id": "SIQ8bwH0wbef"
      },
      "outputs": [],
      "source": [
        "def create_model():\n",
        "  with tf.device('/gpu:0'):\n",
        "\n",
        "    # Model input\n",
        "    input_layer = layers.Input(shape=(IM_SIZE_W, IM_SIZE_H, 1), name='input')\n",
        "\n",
        "    # First block\n",
        "    x = layers.Conv2D(filters=256, kernel_size=2,\n",
        "                      activation='relu', padding='same',\n",
        "                      name='conv2d_1')(input_layer)\n",
        "    x = layers.MaxPool2D(pool_size=2, name='maxpool2d_1')(x)\n",
        "    x = layers.Dropout(0.1, name='dropout_1')(x)\n",
        "\n",
        "    # Second block\n",
        "    x = layers.Conv2D(filters=256, kernel_size=2,\n",
        "                      activation='relu', padding='same',\n",
        "                      name='conv2d_2')(x)\n",
        "    x = layers.MaxPool2D(pool_size=2, name='maxpool2d_2')(x)\n",
        "    x = layers.Dropout(0.1, name='dropout_2')(x)\n",
        "\n",
        "    # Third block\n",
        "    x = layers.Conv2D(filters=256, kernel_size=2,\n",
        "                      activation='relu', padding='same',\n",
        "                      name='conv2d_3')(x)\n",
        "    x = layers.MaxPool2D(pool_size=2, name='maxpool2d_3')(x)\n",
        "    x = layers.Dropout(0.1, name='dropout_3')(x)\n",
        "\n",
        "    # Fourth block\n",
        "    x = layers.Conv2D(filters=512, kernel_size=2,\n",
        "                      activation='relu', padding='same',\n",
        "                      name='conv2d_4')(x)\n",
        "    x = layers.MaxPool2D(pool_size=2, name='maxpool2d_4')(x)\n",
        "    x = layers.Dropout(0.1, name='dropout_4')(x)\n",
        "\n",
        "    # Fifth block\n",
        "    x = layers.Conv2D(filters=512, kernel_size=2,\n",
        "                      activation='relu', padding='same',\n",
        "                      name='conv2d_5')(x)\n",
        "    x = layers.MaxPool2D(pool_size=2, name='maxpool2d_5')(x)\n",
        "    x = layers.Dropout(0.1, name='dropout_5')(x)\n",
        "\n",
        "    # Sixth block\n",
        "    x = layers.Conv2D(filters=1024, kernel_size=2,\n",
        "                      activation='relu', padding='same',\n",
        "                      name='conv2d_6')(x)\n",
        "    x = layers.MaxPool2D(pool_size=2, name='maxpool2d_6')(x)\n",
        "    x = layers.Dropout(0.1, name='dropout_6')(x)\n",
        "\n",
        "    # Seventh block\n",
        "    x = layers.Conv2D(filters=1024, kernel_size=2,\n",
        "                      activation='relu', padding='same',\n",
        "                      name='conv2d_7')(x)\n",
        "    x = layers.MaxPool2D(pool_size=2, name='maxpool2d_7')(x)\n",
        "    x = layers.Dropout(0.1, name='dropout_7')(x)\n",
        "\n",
        "\n",
        "\n",
        "    # GlobalAveragePooling\n",
        "    x = layers.GlobalAveragePooling2D(name='global_average_pooling2d')(x)\n",
        "    x = layers.Flatten()(x)\n",
        "\n",
        "    # Head\n",
        "    x = layers.Dense(2048, activation='relu')(x)\n",
        "    x = layers.Dropout(0.1, name='dropout_head_2')(x)\n",
        "    x = layers.Dense(256, activation='relu')(x)\n",
        "\n",
        "    # Output\n",
        "    output = layers.Dense(units=2,\n",
        "                          activation='softmax',\n",
        "                          name='output')(x)\n",
        "\n",
        "    model = Model(input_layer, output)\n",
        "\n",
        "\n",
        "    F_1_macro = tfa.metrics.f_scores.F1Score(num_classes=2, average=\"macro\", name='f1_macro')\n",
        "\n",
        "    model.compile(optimizer='adam',\n",
        "                  loss='categorical_crossentropy',\n",
        "                  metrics=F_1_macro)\n",
        "\n",
        "  return model\n",
        "\n",
        "\n",
        "model = create_model()"
      ]
    },
    {
      "cell_type": "code",
      "execution_count": null,
      "metadata": {
        "colab": {
          "base_uri": "https://localhost:8080/"
        },
        "id": "q3aWjTDdBbTj",
        "outputId": "2d79e899-3a30-4875-c7bd-cb21eae7c7a1"
      },
      "outputs": [
        {
          "name": "stdout",
          "output_type": "stream",
          "text": [
            "Model: \"model\"\n",
            "_________________________________________________________________\n",
            " Layer (type)                Output Shape              Param #   \n",
            "=================================================================\n",
            " input (InputLayer)          [(None, 300, 400, 1)]     0         \n",
            "                                                                 \n",
            " conv2d_1 (Conv2D)           (None, 300, 400, 256)     1280      \n",
            "                                                                 \n",
            " maxpool2d_1 (MaxPooling2D)  (None, 150, 200, 256)     0         \n",
            "                                                                 \n",
            " dropout_1 (Dropout)         (None, 150, 200, 256)     0         \n",
            "                                                                 \n",
            " conv2d_2 (Conv2D)           (None, 150, 200, 256)     262400    \n",
            "                                                                 \n",
            " maxpool2d_2 (MaxPooling2D)  (None, 75, 100, 256)      0         \n",
            "                                                                 \n",
            " dropout_2 (Dropout)         (None, 75, 100, 256)      0         \n",
            "                                                                 \n",
            " conv2d_3 (Conv2D)           (None, 75, 100, 256)      262400    \n",
            "                                                                 \n",
            " maxpool2d_3 (MaxPooling2D)  (None, 37, 50, 256)       0         \n",
            "                                                                 \n",
            " dropout_3 (Dropout)         (None, 37, 50, 256)       0         \n",
            "                                                                 \n",
            " conv2d_4 (Conv2D)           (None, 37, 50, 512)       524800    \n",
            "                                                                 \n",
            " maxpool2d_4 (MaxPooling2D)  (None, 18, 25, 512)       0         \n",
            "                                                                 \n",
            " dropout_4 (Dropout)         (None, 18, 25, 512)       0         \n",
            "                                                                 \n",
            " conv2d_5 (Conv2D)           (None, 18, 25, 512)       1049088   \n",
            "                                                                 \n",
            " maxpool2d_5 (MaxPooling2D)  (None, 9, 12, 512)        0         \n",
            "                                                                 \n",
            " dropout_5 (Dropout)         (None, 9, 12, 512)        0         \n",
            "                                                                 \n",
            " conv2d_6 (Conv2D)           (None, 9, 12, 1024)       2098176   \n",
            "                                                                 \n",
            " maxpool2d_6 (MaxPooling2D)  (None, 4, 6, 1024)        0         \n",
            "                                                                 \n",
            " dropout_6 (Dropout)         (None, 4, 6, 1024)        0         \n",
            "                                                                 \n",
            " conv2d_7 (Conv2D)           (None, 4, 6, 1024)        4195328   \n",
            "                                                                 \n",
            " maxpool2d_7 (MaxPooling2D)  (None, 2, 3, 1024)        0         \n",
            "                                                                 \n",
            " dropout_7 (Dropout)         (None, 2, 3, 1024)        0         \n",
            "                                                                 \n",
            " global_average_pooling2d (  (None, 1024)              0         \n",
            " GlobalAveragePooling2D)                                         \n",
            "                                                                 \n",
            " flatten (Flatten)           (None, 1024)              0         \n",
            "                                                                 \n",
            " dense (Dense)               (None, 2048)              2099200   \n",
            "                                                                 \n",
            " dropout_head_2 (Dropout)    (None, 2048)              0         \n",
            "                                                                 \n",
            " dense_1 (Dense)             (None, 256)               524544    \n",
            "                                                                 \n",
            " output (Dense)              (None, 2)                 514       \n",
            "                                                                 \n",
            "=================================================================\n",
            "Total params: 11017730 (42.03 MB)\n",
            "Trainable params: 11017730 (42.03 MB)\n",
            "Non-trainable params: 0 (0.00 Byte)\n",
            "_________________________________________________________________\n"
          ]
        }
      ],
      "source": [
        "model.summary()"
      ]
    },
    {
      "cell_type": "code",
      "execution_count": null,
      "metadata": {
        "id": "eRZTT7bD8BjP"
      },
      "outputs": [],
      "source": [
        "model = tf.keras.models.load_model('/content/drive/MyDrive/pneumonia_bacterial.keras')"
      ]
    },
    {
      "cell_type": "code",
      "execution_count": null,
      "metadata": {
        "colab": {
          "background_save": true,
          "base_uri": "https://localhost:8080/"
        },
        "id": "qFR2hYHgPous",
        "outputId": "386d77a8-0ef2-4baa-bd72-17763434a770"
      },
      "outputs": [
        {
          "name": "stdout",
          "output_type": "stream",
          "text": [
            "Epoch 1/30\n",
            "466/466 [==============================] - 4171s 9s/step - loss: 0.6321 - accuracy: 0.6740 - val_loss: 0.6322 - val_accuracy: 0.6732 - lr: 0.0010\n",
            "Epoch 2/30\n",
            "466/466 [==============================] - 429s 919ms/step - loss: 0.6322 - accuracy: 0.6729 - val_loss: 0.6349 - val_accuracy: 0.6732 - lr: 0.0010\n",
            "Epoch 3/30\n",
            "466/466 [==============================] - 430s 921ms/step - loss: 0.6325 - accuracy: 0.6734 - val_loss: 0.6319 - val_accuracy: 0.6732 - lr: 0.0010\n",
            "Epoch 4/30\n",
            "466/466 [==============================] - 434s 930ms/step - loss: 0.6327 - accuracy: 0.6734 - val_loss: 0.6319 - val_accuracy: 0.6732 - lr: 0.0010\n",
            "Epoch 5/30\n",
            "466/466 [==============================] - 432s 927ms/step - loss: 0.6320 - accuracy: 0.6736 - val_loss: 0.6327 - val_accuracy: 0.6732 - lr: 0.0010\n",
            "Epoch 6/30\n",
            "466/466 [==============================] - 429s 920ms/step - loss: 0.6323 - accuracy: 0.6733 - val_loss: 0.6321 - val_accuracy: 0.6732 - lr: 0.0010\n",
            "Epoch 7/30\n",
            "466/466 [==============================] - ETA: 0s - loss: 0.6324 - accuracy: 0.6736\n",
            "Epoch 7: ReduceLROnPlateau reducing learning rate to 0.00010000000474974513.\n",
            "466/466 [==============================] - 428s 918ms/step - loss: 0.6324 - accuracy: 0.6736 - val_loss: 0.6319 - val_accuracy: 0.6732 - lr: 0.0010\n",
            "Epoch 8/30\n",
            "466/466 [==============================] - 434s 930ms/step - loss: 0.6318 - accuracy: 0.6734 - val_loss: 0.6319 - val_accuracy: 0.6732 - lr: 1.0000e-04\n",
            "Epoch 9/30\n",
            "466/466 [==============================] - 428s 917ms/step - loss: 0.6321 - accuracy: 0.6730 - val_loss: 0.6319 - val_accuracy: 0.6732 - lr: 1.0000e-04\n",
            "Epoch 10/30\n",
            "466/466 [==============================] - 428s 918ms/step - loss: 0.6319 - accuracy: 0.6732 - val_loss: 0.6319 - val_accuracy: 0.6732 - lr: 1.0000e-04\n",
            "Epoch 11/30\n",
            "466/466 [==============================] - ETA: 0s - loss: 0.6318 - accuracy: 0.6733\n",
            "Epoch 11: ReduceLROnPlateau reducing learning rate to 1.0000000474974514e-05.\n",
            "466/466 [==============================] - 427s 915ms/step - loss: 0.6318 - accuracy: 0.6733 - val_loss: 0.6319 - val_accuracy: 0.6732 - lr: 1.0000e-04\n",
            "Epoch 12/30\n",
            "466/466 [==============================] - 432s 927ms/step - loss: 0.6320 - accuracy: 0.6730 - val_loss: 0.6319 - val_accuracy: 0.6732 - lr: 1.0000e-05\n",
            "Epoch 13/30\n",
            " 44/466 [=>............................] - ETA: 6:13 - loss: 0.6471 - accuracy: 0.6520"
          ]
        }
      ],
      "source": [
        "checkpoint_path = \"training_1/cp.ckpt\"\n",
        "checkpoint_dir = os.path.dirname(checkpoint_path)\n",
        "\n",
        "init_time = datetime.datetime.now()\n",
        "\n",
        "train_steps = train_gen.samples // BATCH_SIZE\n",
        "valid_steps = val_gen.samples // BATCH_SIZE\n",
        "\n",
        "early_stopping = EarlyStopping(monitor=\"val_loss\", patience=8, mode=\"min\")\n",
        "\n",
        "checkpoint = ModelCheckpoint(\"loss-{val_loss:.4f}.h5\", monitor=\"val_loss\", verbose=0, save_best_only=True, save_weights_only=True, mode=\"min\")\n",
        "#checkpoint = ModelCheckpoint(checkpoint_path, monitor=\"val_loss\", verbose=0, save_best_only=True, save_weights_only=True, mode=\"min\")\n",
        "\n",
        "learning_rate_reduction = ReduceLROnPlateau(monitor=\"val_loss\", factor=0.1, patience=4, min_lr=1e-9, verbose=1, mode=\"min\")\n",
        "\n",
        "history = model.fit( train_gen, validation_data=val_gen, batch_size=BATCH_SIZE, epochs=EPOCHS, steps_per_epoch=train_steps, validation_steps=valid_steps, callbacks=[ checkpoint, early_stopping, learning_rate_reduction], verbose=1, )\n",
        "\n",
        "requared_time = datetime.datetime.now() - init_time\n",
        "print(f'\\nRequired time: {str(requared_time)}\\n')mk\n",
        "\n",
        "model.save('pneumonia_covid19.keras')"
      ]
    },
    {
      "cell_type": "code",
      "execution_count": null,
      "metadata": {
        "colab": {
          "base_uri": "https://localhost:8080/"
        },
        "id": "V2KTJxDae3zQ",
        "outputId": "859d8400-82e7-4c60-eff8-43aa86506ac3"
      },
      "outputs": [
        {
          "name": "stdout",
          "output_type": "stream",
          "text": [
            "52/52 - 130s - loss: 0.1423 - f1_macro: 0.9584 - 130s/epoch - 3s/step\n",
            "Restored model, accuracy: 95.84%\n"
          ]
        }
      ],
      "source": [
        "loss, acc = model.evaluate( test_gen, verbose=2)\n",
        "print('Restored model, accuracy: {:5.2f}%'.format(100 * acc))\n",
        "\n",
        "#print(model.predict(test_images).shape)"
      ]
    },
    {
      "cell_type": "code",
      "execution_count": null,
      "metadata": {
        "id": "OWjpC_dfTK1D"
      },
      "outputs": [],
      "source": [
        "model.save('normal.keras')"
      ]
    },
    {
      "cell_type": "code",
      "execution_count": null,
      "metadata": {
        "colab": {
          "base_uri": "https://localhost:8080/"
        },
        "id": "nham0pjUWqI5",
        "outputId": "ac9d00e7-0ea2-4811-b286-76a4a32c1fca"
      },
      "outputs": [
        {
          "name": "stdout",
          "output_type": "stream",
          "text": [
            "Model: \"model\"\n",
            "_________________________________________________________________\n",
            " Layer (type)                Output Shape              Param #   \n",
            "=================================================================\n",
            " input (InputLayer)          [(None, 300, 400, 1)]     0         \n",
            "                                                                 \n",
            " conv2d_1 (Conv2D)           (None, 300, 400, 256)     1280      \n",
            "                                                                 \n",
            " maxpool2d_1 (MaxPooling2D)  (None, 150, 200, 256)     0         \n",
            "                                                                 \n",
            " dropout_1 (Dropout)         (None, 150, 200, 256)     0         \n",
            "                                                                 \n",
            " conv2d_2 (Conv2D)           (None, 150, 200, 256)     262400    \n",
            "                                                                 \n",
            " maxpool2d_2 (MaxPooling2D)  (None, 75, 100, 256)      0         \n",
            "                                                                 \n",
            " dropout_2 (Dropout)         (None, 75, 100, 256)      0         \n",
            "                                                                 \n",
            " conv2d_3 (Conv2D)           (None, 75, 100, 256)      262400    \n",
            "                                                                 \n",
            " maxpool2d_3 (MaxPooling2D)  (None, 37, 50, 256)       0         \n",
            "                                                                 \n",
            " dropout_3 (Dropout)         (None, 37, 50, 256)       0         \n",
            "                                                                 \n",
            " conv2d_4 (Conv2D)           (None, 37, 50, 512)       524800    \n",
            "                                                                 \n",
            " maxpool2d_4 (MaxPooling2D)  (None, 18, 25, 512)       0         \n",
            "                                                                 \n",
            " dropout_4 (Dropout)         (None, 18, 25, 512)       0         \n",
            "                                                                 \n",
            " conv2d_5 (Conv2D)           (None, 18, 25, 512)       1049088   \n",
            "                                                                 \n",
            " maxpool2d_5 (MaxPooling2D)  (None, 9, 12, 512)        0         \n",
            "                                                                 \n",
            " dropout_5 (Dropout)         (None, 9, 12, 512)        0         \n",
            "                                                                 \n",
            " conv2d_6 (Conv2D)           (None, 9, 12, 1024)       2098176   \n",
            "                                                                 \n",
            " maxpool2d_6 (MaxPooling2D)  (None, 4, 6, 1024)        0         \n",
            "                                                                 \n",
            " dropout_6 (Dropout)         (None, 4, 6, 1024)        0         \n",
            "                                                                 \n",
            " conv2d_7 (Conv2D)           (None, 4, 6, 1024)        4195328   \n",
            "                                                                 \n",
            " maxpool2d_7 (MaxPooling2D)  (None, 2, 3, 1024)        0         \n",
            "                                                                 \n",
            " dropout_7 (Dropout)         (None, 2, 3, 1024)        0         \n",
            "                                                                 \n",
            " global_average_pooling2d (  (None, 1024)              0         \n",
            " GlobalAveragePooling2D)                                         \n",
            "                                                                 \n",
            " flatten (Flatten)           (None, 1024)              0         \n",
            "                                                                 \n",
            " dense (Dense)               (None, 2048)              2099200   \n",
            "                                                                 \n",
            " dropout_head_2 (Dropout)    (None, 2048)              0         \n",
            "                                                                 \n",
            " dense_1 (Dense)             (None, 256)               524544    \n",
            "                                                                 \n",
            " output (Dense)              (None, 2)                 514       \n",
            "                                                                 \n",
            "=================================================================\n",
            "Total params: 11017730 (42.03 MB)\n",
            "Trainable params: 11017730 (42.03 MB)\n",
            "Non-trainable params: 0 (0.00 Byte)\n",
            "_________________________________________________________________\n"
          ]
        }
      ],
      "source": [
        "new_model = tf.keras.models.load_model('normal.keras')\n",
        "\n",
        "# Show the model architecture\n",
        "new_model.summary()"
      ]
    },
    {
      "cell_type": "code",
      "execution_count": null,
      "metadata": {
        "colab": {
          "base_uri": "https://localhost:8080/"
        },
        "id": "_efdyJNwXqdv",
        "outputId": "e7de2b1c-5378-4cec-b013-156787500104"
      },
      "outputs": [
        {
          "name": "stdout",
          "output_type": "stream",
          "text": [
            "52/52 - 15s - loss: 0.1423 - f1_macro: 0.9584 - 15s/epoch - 282ms/step\n",
            "Restored model, accuracy: 95.84%\n"
          ]
        }
      ],
      "source": [
        "loss, acc = new_model.evaluate( test_gen, verbose=2)\n",
        "print('Restored model, accuracy: {:5.2f}%'.format(100 * acc))\n",
        "\n",
        "#print(model.predict(test_images).shape)"
      ]
    },
    {
      "cell_type": "code",
      "execution_count": null,
      "metadata": {
        "colab": {
          "base_uri": "https://localhost:8080/",
          "height": 334
        },
        "id": "k37wyNf1Xxqk",
        "outputId": "feded526-6cb3-4536-c095-9247c320ba1a"
      },
      "outputs": [
        {
          "name": "stdout",
          "output_type": "stream",
          "text": [
            "[0. 1.]\n"
          ]
        },
        {
          "data": {
            "image/png": "[encoded data removed]",
            "text/plain": [
              "<PIL.Image.Image image mode=L size=400x300>"
            ]
          },
          "metadata": {},
          "output_type": "display_data"
        }
      ],
      "source": [
        "# Отримання одного зображення та його мітки з генератора\n",
        "image, label = train_gen.next()\n",
        "image = image[0]  # Обираємо перше зображення\n",
        "print(label[0])\n",
        "\n",
        "# Перетворення типу даних до 'uint8'\n",
        "image_uint8 = (image * 255).astype('uint8')\n",
        "\n",
        "# Створення об'єкту Image з NumPy масиву\n",
        "image_pil = PIL.Image.fromarray(image_uint8.squeeze())  # Видаляємо останнє вимірювання (1, 1, 1)\n",
        "\n",
        "# Відображення зображення\n",
        "display(image_pil)"
      ]
    },
    {
      "cell_type": "code",
      "execution_count": null,
      "metadata": {
        "colab": {
          "base_uri": "https://localhost:8080/"
        },
        "id": "IBwJ9X7_YGZh",
        "outputId": "1081aec2-dc43-421f-d683-7a8d7aba15dd"
      },
      "outputs": [
        {
          "name": "stdout",
          "output_type": "stream",
          "text": [
            "52/52 - 13s - 13s/epoch - 250ms/step\n"
          ]
        }
      ],
      "source": [
        "res = new_model.predict(test_gen, verbose=2)"
      ]
    },
    {
      "cell_type": "code",
      "execution_count": null,
      "metadata": {
        "colab": {
          "base_uri": "https://localhost:8080/"
        },
        "id": "DiVk8rOlYWAa",
        "outputId": "e737f080-0498-4ecc-bf88-0443b8ab068b"
      },
      "outputs": [
        {
          "data": {
            "text/plain": [
              "array([1.7932490e-04, 9.9982065e-01], dtype=float32)"
            ]
          },
          "execution_count": 41,
          "metadata": {},
          "output_type": "execute_result"
        }
      ],
      "source": [
        "res[0]"
      ]
    },
    {
      "cell_type": "code",
      "execution_count": null,
      "metadata": {
        "colab": {
          "base_uri": "https://localhost:8080/"
        },
        "id": "tf-Ppc9taN4v",
        "outputId": "043d088d-0450-4dfa-8e93-3be0a5f1d401"
      },
      "outputs": [
        {
          "data": {
            "text/plain": [
              "array([0., 1.], dtype=float32)"
            ]
          },
          "execution_count": 44,
          "metadata": {},
          "output_type": "execute_result"
        }
      ],
      "source": [
        "test_gen[0][1][0]"
      ]
    },
    {
      "cell_type": "code",
      "execution_count": null,
      "metadata": {
        "colab": {
          "base_uri": "https://localhost:8080/"
        },
        "id": "MIU6Wv-LbXJJ",
        "outputId": "2374f9c7-43ae-43ab-ba61-50498da5dd13"
      },
      "outputs": [
        {
          "data": {
            "text/plain": [
              "array([0.97437716, 0.02562287], dtype=float32)"
            ]
          },
          "execution_count": 47,
          "metadata": {},
          "output_type": "execute_result"
        }
      ],
      "source": [
        "res[3]"
      ]
    },
    {
      "cell_type": "code",
      "execution_count": null,
      "metadata": {
        "colab": {
          "base_uri": "https://localhost:8080/"
        },
        "id": "hj-qgucubkBs",
        "outputId": "91085bec-2beb-4383-cee3-172474f188d6"
      },
      "outputs": [
        {
          "data": {
            "text/plain": [
              "array([1., 0.], dtype=float32)"
            ]
          },
          "execution_count": 48,
          "metadata": {},
          "output_type": "execute_result"
        }
      ],
      "source": [
        "test_gen[0][1][3]"
      ]
    },
    {
      "cell_type": "code",
      "execution_count": null,
      "metadata": {
        "id": "kj2Xic10bmKV"
      },
      "outputs": [],
      "source": []
    }
  ],
  "metadata": {
    "accelerator": "GPU",
    "colab": {
      "provenance": []
    },
    "kernelspec": {
      "display_name": "Python 3",
      "name": "python3"
    },
    "language_info": {
      "name": "python"
    }
  },
  "nbformat": 4,
  "nbformat_minor": 0
}